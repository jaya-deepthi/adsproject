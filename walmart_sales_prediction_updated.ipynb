{
  "nbformat": 4,
  "nbformat_minor": 0,
  "metadata": {
    "colab": {
      "name": "walmart sales prediction updated.ipynb",
      "provenance": [],
      "authorship_tag": "ABX9TyMzqJVspBYtdGSzAoKUP7L5",
      "include_colab_link": true
    },
    "kernelspec": {
      "name": "python3",
      "display_name": "Python 3"
    }
  },
  "cells": [
    {
      "cell_type": "markdown",
      "metadata": {
        "id": "view-in-github",
        "colab_type": "text"
      },
      "source": [
        "<a href=\"https://colab.research.google.com/github/jaya-deepthi/adsproject/blob/main/walmart_sales_prediction_updated.ipynb\" target=\"_parent\"><img src=\"https://colab.research.google.com/assets/colab-badge.svg\" alt=\"Open In Colab\"/></a>"
      ]
    },
    {
      "cell_type": "code",
      "metadata": {
        "id": "9z00LzvuLkuA"
      },
      "source": [
        "import pandas as pd\n",
        "import numpy as np \n",
        "from sklearn.model_selection import train_test_split\n",
        "from sklearn.tree import DecisionTreeRegressor\n",
        "from sklearn.linear_model import BayesianRidge, LinearRegression\n",
        "from sklearn.ensemble import GradientBoostingRegressor, RandomForestRegressor"
      ],
      "execution_count": null,
      "outputs": []
    },
    {
      "cell_type": "code",
      "metadata": {
        "id": "VDfl9g6QL42B"
      },
      "source": [
        "train = pd.read_csv('/content/train.csv')\n",
        "features = pd.read_csv('/content/features.csv')\n",
        "stores = pd.read_csv('/content/stores.csv')"
      ],
      "execution_count": null,
      "outputs": []
    },
    {
      "cell_type": "code",
      "metadata": {
        "colab": {
          "base_uri": "https://localhost:8080/",
          "height": 197
        },
        "id": "pjS0cQZlSNAl",
        "outputId": "ae74faa3-95a6-49cc-d156-2dcd8990763b"
      },
      "source": [
        "train.head(5)"
      ],
      "execution_count": null,
      "outputs": [
        {
          "output_type": "execute_result",
          "data": {
            "text/html": [
              "<div>\n",
              "<style scoped>\n",
              "    .dataframe tbody tr th:only-of-type {\n",
              "        vertical-align: middle;\n",
              "    }\n",
              "\n",
              "    .dataframe tbody tr th {\n",
              "        vertical-align: top;\n",
              "    }\n",
              "\n",
              "    .dataframe thead th {\n",
              "        text-align: right;\n",
              "    }\n",
              "</style>\n",
              "<table border=\"1\" class=\"dataframe\">\n",
              "  <thead>\n",
              "    <tr style=\"text-align: right;\">\n",
              "      <th></th>\n",
              "      <th>Store</th>\n",
              "      <th>Dept</th>\n",
              "      <th>Date</th>\n",
              "      <th>Weekly_Sales</th>\n",
              "      <th>IsHoliday</th>\n",
              "    </tr>\n",
              "  </thead>\n",
              "  <tbody>\n",
              "    <tr>\n",
              "      <th>0</th>\n",
              "      <td>1</td>\n",
              "      <td>1</td>\n",
              "      <td>2010-02-05</td>\n",
              "      <td>24924.50</td>\n",
              "      <td>False</td>\n",
              "    </tr>\n",
              "    <tr>\n",
              "      <th>1</th>\n",
              "      <td>1</td>\n",
              "      <td>1</td>\n",
              "      <td>2010-02-12</td>\n",
              "      <td>46039.49</td>\n",
              "      <td>True</td>\n",
              "    </tr>\n",
              "    <tr>\n",
              "      <th>2</th>\n",
              "      <td>1</td>\n",
              "      <td>1</td>\n",
              "      <td>2010-02-19</td>\n",
              "      <td>41595.55</td>\n",
              "      <td>False</td>\n",
              "    </tr>\n",
              "    <tr>\n",
              "      <th>3</th>\n",
              "      <td>1</td>\n",
              "      <td>1</td>\n",
              "      <td>2010-02-26</td>\n",
              "      <td>19403.54</td>\n",
              "      <td>False</td>\n",
              "    </tr>\n",
              "    <tr>\n",
              "      <th>4</th>\n",
              "      <td>1</td>\n",
              "      <td>1</td>\n",
              "      <td>2010-03-05</td>\n",
              "      <td>21827.90</td>\n",
              "      <td>False</td>\n",
              "    </tr>\n",
              "  </tbody>\n",
              "</table>\n",
              "</div>"
            ],
            "text/plain": [
              "   Store  Dept        Date  Weekly_Sales  IsHoliday\n",
              "0      1     1  2010-02-05      24924.50      False\n",
              "1      1     1  2010-02-12      46039.49       True\n",
              "2      1     1  2010-02-19      41595.55      False\n",
              "3      1     1  2010-02-26      19403.54      False\n",
              "4      1     1  2010-03-05      21827.90      False"
            ]
          },
          "metadata": {
            "tags": []
          },
          "execution_count": 24
        }
      ]
    },
    {
      "cell_type": "code",
      "metadata": {
        "colab": {
          "base_uri": "https://localhost:8080/",
          "height": 287
        },
        "id": "oIkbZaPnSTFm",
        "outputId": "22cc4574-94f5-470e-b29a-8e8df32303d3"
      },
      "source": [
        "train.describe()"
      ],
      "execution_count": null,
      "outputs": [
        {
          "output_type": "execute_result",
          "data": {
            "text/html": [
              "<div>\n",
              "<style scoped>\n",
              "    .dataframe tbody tr th:only-of-type {\n",
              "        vertical-align: middle;\n",
              "    }\n",
              "\n",
              "    .dataframe tbody tr th {\n",
              "        vertical-align: top;\n",
              "    }\n",
              "\n",
              "    .dataframe thead th {\n",
              "        text-align: right;\n",
              "    }\n",
              "</style>\n",
              "<table border=\"1\" class=\"dataframe\">\n",
              "  <thead>\n",
              "    <tr style=\"text-align: right;\">\n",
              "      <th></th>\n",
              "      <th>Store</th>\n",
              "      <th>Dept</th>\n",
              "      <th>Weekly_Sales</th>\n",
              "    </tr>\n",
              "  </thead>\n",
              "  <tbody>\n",
              "    <tr>\n",
              "      <th>count</th>\n",
              "      <td>421570.000000</td>\n",
              "      <td>421570.000000</td>\n",
              "      <td>421570.000000</td>\n",
              "    </tr>\n",
              "    <tr>\n",
              "      <th>mean</th>\n",
              "      <td>22.200546</td>\n",
              "      <td>44.260317</td>\n",
              "      <td>15981.258123</td>\n",
              "    </tr>\n",
              "    <tr>\n",
              "      <th>std</th>\n",
              "      <td>12.785297</td>\n",
              "      <td>30.492054</td>\n",
              "      <td>22711.183519</td>\n",
              "    </tr>\n",
              "    <tr>\n",
              "      <th>min</th>\n",
              "      <td>1.000000</td>\n",
              "      <td>1.000000</td>\n",
              "      <td>-4988.940000</td>\n",
              "    </tr>\n",
              "    <tr>\n",
              "      <th>25%</th>\n",
              "      <td>11.000000</td>\n",
              "      <td>18.000000</td>\n",
              "      <td>2079.650000</td>\n",
              "    </tr>\n",
              "    <tr>\n",
              "      <th>50%</th>\n",
              "      <td>22.000000</td>\n",
              "      <td>37.000000</td>\n",
              "      <td>7612.030000</td>\n",
              "    </tr>\n",
              "    <tr>\n",
              "      <th>75%</th>\n",
              "      <td>33.000000</td>\n",
              "      <td>74.000000</td>\n",
              "      <td>20205.852500</td>\n",
              "    </tr>\n",
              "    <tr>\n",
              "      <th>max</th>\n",
              "      <td>45.000000</td>\n",
              "      <td>99.000000</td>\n",
              "      <td>693099.360000</td>\n",
              "    </tr>\n",
              "  </tbody>\n",
              "</table>\n",
              "</div>"
            ],
            "text/plain": [
              "               Store           Dept   Weekly_Sales\n",
              "count  421570.000000  421570.000000  421570.000000\n",
              "mean       22.200546      44.260317   15981.258123\n",
              "std        12.785297      30.492054   22711.183519\n",
              "min         1.000000       1.000000   -4988.940000\n",
              "25%        11.000000      18.000000    2079.650000\n",
              "50%        22.000000      37.000000    7612.030000\n",
              "75%        33.000000      74.000000   20205.852500\n",
              "max        45.000000      99.000000  693099.360000"
            ]
          },
          "metadata": {
            "tags": []
          },
          "execution_count": 25
        }
      ]
    },
    {
      "cell_type": "code",
      "metadata": {
        "colab": {
          "base_uri": "https://localhost:8080/",
          "height": 197
        },
        "id": "XvNrkCAZSyGY",
        "outputId": "6d44844d-7d4d-4409-cd8a-501aac4a88b9"
      },
      "source": [
        "stores.head(5)"
      ],
      "execution_count": null,
      "outputs": [
        {
          "output_type": "execute_result",
          "data": {
            "text/html": [
              "<div>\n",
              "<style scoped>\n",
              "    .dataframe tbody tr th:only-of-type {\n",
              "        vertical-align: middle;\n",
              "    }\n",
              "\n",
              "    .dataframe tbody tr th {\n",
              "        vertical-align: top;\n",
              "    }\n",
              "\n",
              "    .dataframe thead th {\n",
              "        text-align: right;\n",
              "    }\n",
              "</style>\n",
              "<table border=\"1\" class=\"dataframe\">\n",
              "  <thead>\n",
              "    <tr style=\"text-align: right;\">\n",
              "      <th></th>\n",
              "      <th>Store</th>\n",
              "      <th>Type</th>\n",
              "      <th>Size</th>\n",
              "    </tr>\n",
              "  </thead>\n",
              "  <tbody>\n",
              "    <tr>\n",
              "      <th>0</th>\n",
              "      <td>1</td>\n",
              "      <td>A</td>\n",
              "      <td>151315</td>\n",
              "    </tr>\n",
              "    <tr>\n",
              "      <th>1</th>\n",
              "      <td>2</td>\n",
              "      <td>A</td>\n",
              "      <td>202307</td>\n",
              "    </tr>\n",
              "    <tr>\n",
              "      <th>2</th>\n",
              "      <td>3</td>\n",
              "      <td>B</td>\n",
              "      <td>37392</td>\n",
              "    </tr>\n",
              "    <tr>\n",
              "      <th>3</th>\n",
              "      <td>4</td>\n",
              "      <td>A</td>\n",
              "      <td>205863</td>\n",
              "    </tr>\n",
              "    <tr>\n",
              "      <th>4</th>\n",
              "      <td>5</td>\n",
              "      <td>B</td>\n",
              "      <td>34875</td>\n",
              "    </tr>\n",
              "  </tbody>\n",
              "</table>\n",
              "</div>"
            ],
            "text/plain": [
              "   Store Type    Size\n",
              "0      1    A  151315\n",
              "1      2    A  202307\n",
              "2      3    B   37392\n",
              "3      4    A  205863\n",
              "4      5    B   34875"
            ]
          },
          "metadata": {
            "tags": []
          },
          "execution_count": 30
        }
      ]
    },
    {
      "cell_type": "code",
      "metadata": {
        "colab": {
          "base_uri": "https://localhost:8080/",
          "height": 287
        },
        "id": "5TUFVb18S2Hh",
        "outputId": "fa637763-c30d-4610-cec9-7496b9878d03"
      },
      "source": [
        "stores.describe()"
      ],
      "execution_count": null,
      "outputs": [
        {
          "output_type": "execute_result",
          "data": {
            "text/html": [
              "<div>\n",
              "<style scoped>\n",
              "    .dataframe tbody tr th:only-of-type {\n",
              "        vertical-align: middle;\n",
              "    }\n",
              "\n",
              "    .dataframe tbody tr th {\n",
              "        vertical-align: top;\n",
              "    }\n",
              "\n",
              "    .dataframe thead th {\n",
              "        text-align: right;\n",
              "    }\n",
              "</style>\n",
              "<table border=\"1\" class=\"dataframe\">\n",
              "  <thead>\n",
              "    <tr style=\"text-align: right;\">\n",
              "      <th></th>\n",
              "      <th>Store</th>\n",
              "      <th>Size</th>\n",
              "    </tr>\n",
              "  </thead>\n",
              "  <tbody>\n",
              "    <tr>\n",
              "      <th>count</th>\n",
              "      <td>45.000000</td>\n",
              "      <td>45.000000</td>\n",
              "    </tr>\n",
              "    <tr>\n",
              "      <th>mean</th>\n",
              "      <td>23.000000</td>\n",
              "      <td>130287.600000</td>\n",
              "    </tr>\n",
              "    <tr>\n",
              "      <th>std</th>\n",
              "      <td>13.133926</td>\n",
              "      <td>63825.271991</td>\n",
              "    </tr>\n",
              "    <tr>\n",
              "      <th>min</th>\n",
              "      <td>1.000000</td>\n",
              "      <td>34875.000000</td>\n",
              "    </tr>\n",
              "    <tr>\n",
              "      <th>25%</th>\n",
              "      <td>12.000000</td>\n",
              "      <td>70713.000000</td>\n",
              "    </tr>\n",
              "    <tr>\n",
              "      <th>50%</th>\n",
              "      <td>23.000000</td>\n",
              "      <td>126512.000000</td>\n",
              "    </tr>\n",
              "    <tr>\n",
              "      <th>75%</th>\n",
              "      <td>34.000000</td>\n",
              "      <td>202307.000000</td>\n",
              "    </tr>\n",
              "    <tr>\n",
              "      <th>max</th>\n",
              "      <td>45.000000</td>\n",
              "      <td>219622.000000</td>\n",
              "    </tr>\n",
              "  </tbody>\n",
              "</table>\n",
              "</div>"
            ],
            "text/plain": [
              "           Store           Size\n",
              "count  45.000000      45.000000\n",
              "mean   23.000000  130287.600000\n",
              "std    13.133926   63825.271991\n",
              "min     1.000000   34875.000000\n",
              "25%    12.000000   70713.000000\n",
              "50%    23.000000  126512.000000\n",
              "75%    34.000000  202307.000000\n",
              "max    45.000000  219622.000000"
            ]
          },
          "metadata": {
            "tags": []
          },
          "execution_count": 31
        }
      ]
    },
    {
      "cell_type": "code",
      "metadata": {
        "colab": {
          "base_uri": "https://localhost:8080/",
          "height": 387
        },
        "id": "0PNLmvJ7S7zk",
        "outputId": "3c2f7622-e1e8-4ad7-ba0f-468fe8db0bed"
      },
      "source": [
        "import seaborn as sns\n",
        "import matplotlib.pyplot as plt\n",
        "import matplotlib.patches as mpatches\n",
        "fig, ax = plt.subplots(1, 2, figsize = (15,6))\n",
        "ax[0].bar(stores['Type'].unique(), stores['Size'].groupby(stores['Type']).count())\n",
        "ax[0].set_ylabel('# of Stores')\n",
        "ax[0].set_xlabel('Store Type')\n",
        "ax[0].yaxis.grid(True, linewidth=0.3)\n",
        "\n",
        "ax[1].scatter(stores['Type'], stores['Size'])\n",
        "ax[1].scatter(stores['Type'].unique(), stores['Size'].groupby(stores['Type']).mean()) \n",
        "ax[1].set_ylabel('Store Size (Total / Average)')\n",
        "ax[1].set_xlabel('Store Type')\n",
        "ax[1].yaxis.grid(True, linewidth=0.3)"
      ],
      "execution_count": null,
      "outputs": [
        {
          "output_type": "display_data",
          "data": {
            "image/png": "[encoded data removed]",
            "text/plain": [
              "<Figure size 1080x432 with 2 Axes>"
            ]
          },
          "metadata": {
            "tags": [],
            "needs_background": "light"
          }
        }
      ]
    },
    {
      "cell_type": "code",
      "metadata": {
        "colab": {
          "base_uri": "https://localhost:8080/",
          "height": 363
        },
        "id": "2RunOo4ZTlNd",
        "outputId": "d55a3566-5573-481d-f4bc-3aa6347abe6a"
      },
      "source": [
        "sns.distplot(stores['Size'])"
      ],
      "execution_count": null,
      "outputs": [
        {
          "output_type": "stream",
          "text": [
            "/usr/local/lib/python3.6/dist-packages/seaborn/distributions.py:2551: FutureWarning: `distplot` is a deprecated function and will be removed in a future version. Please adapt your code to use either `displot` (a figure-level function with similar flexibility) or `histplot` (an axes-level function for histograms).\n",
            "  warnings.warn(msg, FutureWarning)\n"
          ],
          "name": "stderr"
        },
        {
          "output_type": "execute_result",
          "data": {
            "text/plain": [
              "<matplotlib.axes._subplots.AxesSubplot at 0x7f07ea23fef0>"
            ]
          },
          "metadata": {
            "tags": []
          },
          "execution_count": 35
        },
        {
          "output_type": "display_data",
          "data": {
            "image/png": "[encoded data removed]",
            "text/plain": [
              "<Figure size 432x288 with 1 Axes>"
            ]
          },
          "metadata": {
            "tags": [],
            "needs_background": "light"
          }
        }
      ]
    },
    {
      "cell_type": "code",
      "metadata": {
        "colab": {
          "base_uri": "https://localhost:8080/",
          "height": 197
        },
        "id": "ofUZ7LutT3wg",
        "outputId": "4b10896e-cce7-462e-e9d4-93dfb87ff206"
      },
      "source": [
        "features.head()"
      ],
      "execution_count": null,
      "outputs": [
        {
          "output_type": "execute_result",
          "data": {
            "text/html": [
              "<div>\n",
              "<style scoped>\n",
              "    .dataframe tbody tr th:only-of-type {\n",
              "        vertical-align: middle;\n",
              "    }\n",
              "\n",
              "    .dataframe tbody tr th {\n",
              "        vertical-align: top;\n",
              "    }\n",
              "\n",
              "    .dataframe thead th {\n",
              "        text-align: right;\n",
              "    }\n",
              "</style>\n",
              "<table border=\"1\" class=\"dataframe\">\n",
              "  <thead>\n",
              "    <tr style=\"text-align: right;\">\n",
              "      <th></th>\n",
              "      <th>Store</th>\n",
              "      <th>Date</th>\n",
              "      <th>Temperature</th>\n",
              "      <th>Fuel_Price</th>\n",
              "      <th>MarkDown1</th>\n",
              "      <th>MarkDown2</th>\n",
              "      <th>MarkDown3</th>\n",
              "      <th>MarkDown4</th>\n",
              "      <th>MarkDown5</th>\n",
              "      <th>CPI</th>\n",
              "      <th>Unemployment</th>\n",
              "      <th>IsHoliday</th>\n",
              "    </tr>\n",
              "  </thead>\n",
              "  <tbody>\n",
              "    <tr>\n",
              "      <th>0</th>\n",
              "      <td>1</td>\n",
              "      <td>2010-02-05</td>\n",
              "      <td>42.31</td>\n",
              "      <td>2.572</td>\n",
              "      <td>NaN</td>\n",
              "      <td>NaN</td>\n",
              "      <td>NaN</td>\n",
              "      <td>NaN</td>\n",
              "      <td>NaN</td>\n",
              "      <td>211.096358</td>\n",
              "      <td>8.106</td>\n",
              "      <td>False</td>\n",
              "    </tr>\n",
              "    <tr>\n",
              "      <th>1</th>\n",
              "      <td>1</td>\n",
              "      <td>2010-02-12</td>\n",
              "      <td>38.51</td>\n",
              "      <td>2.548</td>\n",
              "      <td>NaN</td>\n",
              "      <td>NaN</td>\n",
              "      <td>NaN</td>\n",
              "      <td>NaN</td>\n",
              "      <td>NaN</td>\n",
              "      <td>211.242170</td>\n",
              "      <td>8.106</td>\n",
              "      <td>True</td>\n",
              "    </tr>\n",
              "    <tr>\n",
              "      <th>2</th>\n",
              "      <td>1</td>\n",
              "      <td>2010-02-19</td>\n",
              "      <td>39.93</td>\n",
              "      <td>2.514</td>\n",
              "      <td>NaN</td>\n",
              "      <td>NaN</td>\n",
              "      <td>NaN</td>\n",
              "      <td>NaN</td>\n",
              "      <td>NaN</td>\n",
              "      <td>211.289143</td>\n",
              "      <td>8.106</td>\n",
              "      <td>False</td>\n",
              "    </tr>\n",
              "    <tr>\n",
              "      <th>3</th>\n",
              "      <td>1</td>\n",
              "      <td>2010-02-26</td>\n",
              "      <td>46.63</td>\n",
              "      <td>2.561</td>\n",
              "      <td>NaN</td>\n",
              "      <td>NaN</td>\n",
              "      <td>NaN</td>\n",
              "      <td>NaN</td>\n",
              "      <td>NaN</td>\n",
              "      <td>211.319643</td>\n",
              "      <td>8.106</td>\n",
              "      <td>False</td>\n",
              "    </tr>\n",
              "    <tr>\n",
              "      <th>4</th>\n",
              "      <td>1</td>\n",
              "      <td>2010-03-05</td>\n",
              "      <td>46.50</td>\n",
              "      <td>2.625</td>\n",
              "      <td>NaN</td>\n",
              "      <td>NaN</td>\n",
              "      <td>NaN</td>\n",
              "      <td>NaN</td>\n",
              "      <td>NaN</td>\n",
              "      <td>211.350143</td>\n",
              "      <td>8.106</td>\n",
              "      <td>False</td>\n",
              "    </tr>\n",
              "  </tbody>\n",
              "</table>\n",
              "</div>"
            ],
            "text/plain": [
              "   Store        Date  Temperature  ...         CPI  Unemployment  IsHoliday\n",
              "0      1  2010-02-05        42.31  ...  211.096358         8.106      False\n",
              "1      1  2010-02-12        38.51  ...  211.242170         8.106       True\n",
              "2      1  2010-02-19        39.93  ...  211.289143         8.106      False\n",
              "3      1  2010-02-26        46.63  ...  211.319643         8.106      False\n",
              "4      1  2010-03-05        46.50  ...  211.350143         8.106      False\n",
              "\n",
              "[5 rows x 12 columns]"
            ]
          },
          "metadata": {
            "tags": []
          },
          "execution_count": 38
        }
      ]
    },
    {
      "cell_type": "code",
      "metadata": {
        "colab": {
          "base_uri": "https://localhost:8080/",
          "height": 287
        },
        "id": "QWDWgkoLT9u6",
        "outputId": "bd7ad230-8b1c-46ca-f7ea-fdcd8ae49dff"
      },
      "source": [
        "features.describe()"
      ],
      "execution_count": null,
      "outputs": [
        {
          "output_type": "execute_result",
          "data": {
            "text/html": [
              "<div>\n",
              "<style scoped>\n",
              "    .dataframe tbody tr th:only-of-type {\n",
              "        vertical-align: middle;\n",
              "    }\n",
              "\n",
              "    .dataframe tbody tr th {\n",
              "        vertical-align: top;\n",
              "    }\n",
              "\n",
              "    .dataframe thead th {\n",
              "        text-align: right;\n",
              "    }\n",
              "</style>\n",
              "<table border=\"1\" class=\"dataframe\">\n",
              "  <thead>\n",
              "    <tr style=\"text-align: right;\">\n",
              "      <th></th>\n",
              "      <th>Store</th>\n",
              "      <th>Temperature</th>\n",
              "      <th>Fuel_Price</th>\n",
              "      <th>MarkDown1</th>\n",
              "      <th>MarkDown2</th>\n",
              "      <th>MarkDown3</th>\n",
              "      <th>MarkDown4</th>\n",
              "      <th>MarkDown5</th>\n",
              "      <th>CPI</th>\n",
              "      <th>Unemployment</th>\n",
              "    </tr>\n",
              "  </thead>\n",
              "  <tbody>\n",
              "    <tr>\n",
              "      <th>count</th>\n",
              "      <td>8190.000000</td>\n",
              "      <td>8190.000000</td>\n",
              "      <td>8190.000000</td>\n",
              "      <td>4032.000000</td>\n",
              "      <td>2921.000000</td>\n",
              "      <td>3613.000000</td>\n",
              "      <td>3464.000000</td>\n",
              "      <td>4050.000000</td>\n",
              "      <td>7605.000000</td>\n",
              "      <td>7605.000000</td>\n",
              "    </tr>\n",
              "    <tr>\n",
              "      <th>mean</th>\n",
              "      <td>23.000000</td>\n",
              "      <td>59.356198</td>\n",
              "      <td>3.405992</td>\n",
              "      <td>7032.371786</td>\n",
              "      <td>3384.176594</td>\n",
              "      <td>1760.100180</td>\n",
              "      <td>3292.935886</td>\n",
              "      <td>4132.216422</td>\n",
              "      <td>172.460809</td>\n",
              "      <td>7.826821</td>\n",
              "    </tr>\n",
              "    <tr>\n",
              "      <th>std</th>\n",
              "      <td>12.987966</td>\n",
              "      <td>18.678607</td>\n",
              "      <td>0.431337</td>\n",
              "      <td>9262.747448</td>\n",
              "      <td>8793.583016</td>\n",
              "      <td>11276.462208</td>\n",
              "      <td>6792.329861</td>\n",
              "      <td>13086.690278</td>\n",
              "      <td>39.738346</td>\n",
              "      <td>1.877259</td>\n",
              "    </tr>\n",
              "    <tr>\n",
              "      <th>min</th>\n",
              "      <td>1.000000</td>\n",
              "      <td>-7.290000</td>\n",
              "      <td>2.472000</td>\n",
              "      <td>-2781.450000</td>\n",
              "      <td>-265.760000</td>\n",
              "      <td>-179.260000</td>\n",
              "      <td>0.220000</td>\n",
              "      <td>-185.170000</td>\n",
              "      <td>126.064000</td>\n",
              "      <td>3.684000</td>\n",
              "    </tr>\n",
              "    <tr>\n",
              "      <th>25%</th>\n",
              "      <td>12.000000</td>\n",
              "      <td>45.902500</td>\n",
              "      <td>3.041000</td>\n",
              "      <td>1577.532500</td>\n",
              "      <td>68.880000</td>\n",
              "      <td>6.600000</td>\n",
              "      <td>304.687500</td>\n",
              "      <td>1440.827500</td>\n",
              "      <td>132.364839</td>\n",
              "      <td>6.634000</td>\n",
              "    </tr>\n",
              "    <tr>\n",
              "      <th>50%</th>\n",
              "      <td>23.000000</td>\n",
              "      <td>60.710000</td>\n",
              "      <td>3.513000</td>\n",
              "      <td>4743.580000</td>\n",
              "      <td>364.570000</td>\n",
              "      <td>36.260000</td>\n",
              "      <td>1176.425000</td>\n",
              "      <td>2727.135000</td>\n",
              "      <td>182.764003</td>\n",
              "      <td>7.806000</td>\n",
              "    </tr>\n",
              "    <tr>\n",
              "      <th>75%</th>\n",
              "      <td>34.000000</td>\n",
              "      <td>73.880000</td>\n",
              "      <td>3.743000</td>\n",
              "      <td>8923.310000</td>\n",
              "      <td>2153.350000</td>\n",
              "      <td>163.150000</td>\n",
              "      <td>3310.007500</td>\n",
              "      <td>4832.555000</td>\n",
              "      <td>213.932412</td>\n",
              "      <td>8.567000</td>\n",
              "    </tr>\n",
              "    <tr>\n",
              "      <th>max</th>\n",
              "      <td>45.000000</td>\n",
              "      <td>101.950000</td>\n",
              "      <td>4.468000</td>\n",
              "      <td>103184.980000</td>\n",
              "      <td>104519.540000</td>\n",
              "      <td>149483.310000</td>\n",
              "      <td>67474.850000</td>\n",
              "      <td>771448.100000</td>\n",
              "      <td>228.976456</td>\n",
              "      <td>14.313000</td>\n",
              "    </tr>\n",
              "  </tbody>\n",
              "</table>\n",
              "</div>"
            ],
            "text/plain": [
              "             Store  Temperature  ...          CPI  Unemployment\n",
              "count  8190.000000  8190.000000  ...  7605.000000   7605.000000\n",
              "mean     23.000000    59.356198  ...   172.460809      7.826821\n",
              "std      12.987966    18.678607  ...    39.738346      1.877259\n",
              "min       1.000000    -7.290000  ...   126.064000      3.684000\n",
              "25%      12.000000    45.902500  ...   132.364839      6.634000\n",
              "50%      23.000000    60.710000  ...   182.764003      7.806000\n",
              "75%      34.000000    73.880000  ...   213.932412      8.567000\n",
              "max      45.000000   101.950000  ...   228.976456     14.313000\n",
              "\n",
              "[8 rows x 10 columns]"
            ]
          },
          "metadata": {
            "tags": []
          },
          "execution_count": 39
        }
      ]
    },
    {
      "cell_type": "code",
      "metadata": {
        "colab": {
          "base_uri": "https://localhost:8080/",
          "height": 407
        },
        "id": "USxVkPu9UD-3",
        "outputId": "e0a8d665-3d9b-47d1-8cf9-12d4a7a2411e"
      },
      "source": [
        "total = features.isnull().sum().sort_values(ascending=False)\n",
        "percent = (features.isnull().sum()/features.isnull().count()).sort_values(ascending=False)\n",
        "missing_data = pd.concat([total, percent], axis=1, keys=['Total', 'Percent'])\n",
        "missing_data.head(20)"
      ],
      "execution_count": null,
      "outputs": [
        {
          "output_type": "execute_result",
          "data": {
            "text/html": [
              "<div>\n",
              "<style scoped>\n",
              "    .dataframe tbody tr th:only-of-type {\n",
              "        vertical-align: middle;\n",
              "    }\n",
              "\n",
              "    .dataframe tbody tr th {\n",
              "        vertical-align: top;\n",
              "    }\n",
              "\n",
              "    .dataframe thead th {\n",
              "        text-align: right;\n",
              "    }\n",
              "</style>\n",
              "<table border=\"1\" class=\"dataframe\">\n",
              "  <thead>\n",
              "    <tr style=\"text-align: right;\">\n",
              "      <th></th>\n",
              "      <th>Total</th>\n",
              "      <th>Percent</th>\n",
              "    </tr>\n",
              "  </thead>\n",
              "  <tbody>\n",
              "    <tr>\n",
              "      <th>MarkDown2</th>\n",
              "      <td>5269</td>\n",
              "      <td>0.643346</td>\n",
              "    </tr>\n",
              "    <tr>\n",
              "      <th>MarkDown4</th>\n",
              "      <td>4726</td>\n",
              "      <td>0.577045</td>\n",
              "    </tr>\n",
              "    <tr>\n",
              "      <th>MarkDown3</th>\n",
              "      <td>4577</td>\n",
              "      <td>0.558852</td>\n",
              "    </tr>\n",
              "    <tr>\n",
              "      <th>MarkDown1</th>\n",
              "      <td>4158</td>\n",
              "      <td>0.507692</td>\n",
              "    </tr>\n",
              "    <tr>\n",
              "      <th>MarkDown5</th>\n",
              "      <td>4140</td>\n",
              "      <td>0.505495</td>\n",
              "    </tr>\n",
              "    <tr>\n",
              "      <th>Unemployment</th>\n",
              "      <td>585</td>\n",
              "      <td>0.071429</td>\n",
              "    </tr>\n",
              "    <tr>\n",
              "      <th>CPI</th>\n",
              "      <td>585</td>\n",
              "      <td>0.071429</td>\n",
              "    </tr>\n",
              "    <tr>\n",
              "      <th>IsHoliday</th>\n",
              "      <td>0</td>\n",
              "      <td>0.000000</td>\n",
              "    </tr>\n",
              "    <tr>\n",
              "      <th>Fuel_Price</th>\n",
              "      <td>0</td>\n",
              "      <td>0.000000</td>\n",
              "    </tr>\n",
              "    <tr>\n",
              "      <th>Temperature</th>\n",
              "      <td>0</td>\n",
              "      <td>0.000000</td>\n",
              "    </tr>\n",
              "    <tr>\n",
              "      <th>Date</th>\n",
              "      <td>0</td>\n",
              "      <td>0.000000</td>\n",
              "    </tr>\n",
              "    <tr>\n",
              "      <th>Store</th>\n",
              "      <td>0</td>\n",
              "      <td>0.000000</td>\n",
              "    </tr>\n",
              "  </tbody>\n",
              "</table>\n",
              "</div>"
            ],
            "text/plain": [
              "              Total   Percent\n",
              "MarkDown2      5269  0.643346\n",
              "MarkDown4      4726  0.577045\n",
              "MarkDown3      4577  0.558852\n",
              "MarkDown1      4158  0.507692\n",
              "MarkDown5      4140  0.505495\n",
              "Unemployment    585  0.071429\n",
              "CPI             585  0.071429\n",
              "IsHoliday         0  0.000000\n",
              "Fuel_Price        0  0.000000\n",
              "Temperature       0  0.000000\n",
              "Date              0  0.000000\n",
              "Store             0  0.000000"
            ]
          },
          "metadata": {
            "tags": []
          },
          "execution_count": 40
        }
      ]
    },
    {
      "cell_type": "code",
      "metadata": {
        "id": "jkKHyK5tUJwn"
      },
      "source": [
        "features_missing = features.isna().sum()/len(features)"
      ],
      "execution_count": null,
      "outputs": []
    },
    {
      "cell_type": "code",
      "metadata": {
        "colab": {
          "base_uri": "https://localhost:8080/",
          "height": 405
        },
        "id": "xWRHELS1UNyr",
        "outputId": "ba54e5fe-83e9-4167-ea1b-819cf125b376"
      },
      "source": [
        "plt.figure(figsize=(6,6))\n",
        "plt.yticks(np.arange(len(features_missing)),features_missing.index,rotation='horizontal')\n",
        "plt.xlabel('fraction of rows with missing data')\n",
        "plt.barh(np.arange(len(features_missing)), features_missing)"
      ],
      "execution_count": null,
      "outputs": [
        {
          "output_type": "execute_result",
          "data": {
            "text/plain": [
              "<BarContainer object of 12 artists>"
            ]
          },
          "metadata": {
            "tags": []
          },
          "execution_count": 42
        },
        {
          "output_type": "display_data",
          "data": {
            "image/png": "[encoded data removed]",
            "text/plain": [
              "<Figure size 432x432 with 1 Axes>"
            ]
          },
          "metadata": {
            "tags": [],
            "needs_background": "light"
          }
        }
      ]
    },
    {
      "cell_type": "code",
      "metadata": {
        "colab": {
          "base_uri": "https://localhost:8080/",
          "height": 717
        },
        "id": "MYZdU-xVUTgS",
        "outputId": "63fa1b27-3651-4be3-d958-57006e45fd5b"
      },
      "source": [
        "fig, ax = plt.subplots(2, 2, figsize = (15,12))\n",
        "\n",
        "# Plot 1: Year Vs # of Records\n",
        "ax[0,0].barh(features['Date'].str.slice(start=0, stop=4).unique(), \n",
        "          features['Date'].str.slice(start=0, stop=4).value_counts())\n",
        "ax[0,0].set_xlabel('# of Records')\n",
        "ax[0,0].set_ylabel('Year')\n",
        "ax[0,0].yaxis.grid(True, linewidth=0.3)\n",
        "\n",
        "# Plot 2: Month Vs # of Records with Missing Values - Unemployment\n",
        "ax[1,0].barh(features['Date'].str.slice(start=0, stop=7)[features['Unemployment'].isna()].unique(), \n",
        "          features['Date'].str.slice(start=0, stop=7)[features['Unemployment'].isna()].value_counts())\n",
        "ax[1,0].set_xlabel('# of Records with Missing Values - Unemployment')\n",
        "ax[1,0].set_ylabel('Month')\n",
        "ax[1,0].yaxis.grid(True, linewidth=0.3)\n",
        "\n",
        "# Plot 3: Month Vs # of Records with Missing Values - CPI\n",
        "ax[1,1].barh(features['Date'].str.slice(start=0, stop=7)[features['CPI'].isna()].unique(), \n",
        "          features['Date'].str.slice(start=0, stop=7)[features['CPI'].isna()].value_counts())\n",
        "ax[1,1].set_xlabel('# of Records with Missing Values - CPI')\n",
        "ax[1,1].set_ylabel('Month')\n",
        "ax[1,1].yaxis.grid(True, linewidth=0.3)"
      ],
      "execution_count": null,
      "outputs": [
        {
          "output_type": "display_data",
          "data": {
            "image/png": "[encoded data removed]",
            "text/plain": [
              "<Figure size 1080x864 with 4 Axes>"
            ]
          },
          "metadata": {
            "tags": [],
            "needs_background": "light"
          }
        }
      ]
    },
    {
      "cell_type": "code",
      "metadata": {
        "id": "6TuF1-eWUxS7"
      },
      "source": [
        "def distribution(data, features, transformed = False):\n",
        "    \"\"\"\n",
        "    Visualization code for displaying distributions of features\n",
        "    \"\"\"\n",
        "    \n",
        "    # Create figure\n",
        "    fig = plt.figure(figsize = (11,5));\n",
        "\n",
        "    # Skewed feature plotting\n",
        "    for i, feature in enumerate(features):\n",
        "        ax = fig.add_subplot(1, 2, i+1)\n",
        "        ax.hist(data[feature], bins = 25, color = '#00A0A0')\n",
        "        ax.set_title(\"'%s' Feature Distribution\"%(feature), fontsize = 14)\n",
        "        ax.set_xlabel(\"Value\")\n",
        "        ax.set_ylabel(\"Number of Records\")\n",
        "        ax.set_ylim((0, 2000))\n",
        "        ax.set_yticks([0, 500, 1000, 1500, 2000])\n",
        "        ax.set_yticklabels([0, 500, 1000, 1500, \">2000\"])\n",
        "\n",
        "    # Plot aesthetics\n",
        "    if transformed:\n",
        "        fig.suptitle(\"Log-transformed Distributions of Continuous Data Features\", \\\n",
        "            fontsize = 16, y = 1.03)\n",
        "    else:\n",
        "        fig.suptitle(\"Distributions of Continuous Data Features\", \\\n",
        "            fontsize = 16, y = 1.03)\n",
        "\n",
        "    fig.tight_layout()\n",
        "    fig.show()"
      ],
      "execution_count": null,
      "outputs": []
    },
    {
      "cell_type": "code",
      "metadata": {
        "colab": {
          "base_uri": "https://localhost:8080/",
          "height": 462
        },
        "id": "Klq-ILziUaCm",
        "outputId": "b746a7a9-2496-4f86-8ec1-049812fd5d9c"
      },
      "source": [
        "distribution(features, ['CPI','Unemployment'])"
      ],
      "execution_count": null,
      "outputs": [
        {
          "output_type": "stream",
          "text": [
            "/usr/local/lib/python3.6/dist-packages/numpy/lib/histograms.py:839: RuntimeWarning: invalid value encountered in greater_equal\n",
            "  keep = (tmp_a >= first_edge)\n",
            "/usr/local/lib/python3.6/dist-packages/numpy/lib/histograms.py:840: RuntimeWarning: invalid value encountered in less_equal\n",
            "  keep &= (tmp_a <= last_edge)\n"
          ],
          "name": "stderr"
        },
        {
          "output_type": "display_data",
          "data": {
            "image/png": "[encoded data removed]",
            "text/plain": [
              "<Figure size 792x360 with 2 Axes>"
            ]
          },
          "metadata": {
            "tags": [],
            "needs_background": "light"
          }
        }
      ]
    },
    {
      "cell_type": "code",
      "metadata": {
        "colab": {
          "base_uri": "https://localhost:8080/",
          "height": 391
        },
        "id": "2H6g1ogBU0PO",
        "outputId": "f29debaf-ff74-409c-9d5a-490cc4fbb01c"
      },
      "source": [
        "distribution(features, ['Temperature','Fuel_Price'])"
      ],
      "execution_count": null,
      "outputs": [
        {
          "output_type": "display_data",
          "data": {
            "image/png": "[encoded data removed]",
            "text/plain": [
              "<Figure size 792x360 with 2 Axes>"
            ]
          },
          "metadata": {
            "tags": [],
            "needs_background": "light"
          }
        }
      ]
    },
    {
      "cell_type": "code",
      "metadata": {
        "colab": {
          "base_uri": "https://localhost:8080/",
          "height": 462
        },
        "id": "7w5hEX3vU7wD",
        "outputId": "f6a94dc1-9325-42cd-99a2-b54cfc4a8a56"
      },
      "source": [
        "distribution(features, ['MarkDown1','MarkDown2'])"
      ],
      "execution_count": null,
      "outputs": [
        {
          "output_type": "stream",
          "text": [
            "/usr/local/lib/python3.6/dist-packages/numpy/lib/histograms.py:839: RuntimeWarning: invalid value encountered in greater_equal\n",
            "  keep = (tmp_a >= first_edge)\n",
            "/usr/local/lib/python3.6/dist-packages/numpy/lib/histograms.py:840: RuntimeWarning: invalid value encountered in less_equal\n",
            "  keep &= (tmp_a <= last_edge)\n"
          ],
          "name": "stderr"
        },
        {
          "output_type": "display_data",
          "data": {
            "image/png": "[encoded data removed]",
            "text/plain": [
              "<Figure size 792x360 with 2 Axes>"
            ]
          },
          "metadata": {
            "tags": [],
            "needs_background": "light"
          }
        }
      ]
    },
    {
      "cell_type": "code",
      "metadata": {
        "colab": {
          "base_uri": "https://localhost:8080/",
          "height": 462
        },
        "id": "5kBhBnmDVDFq",
        "outputId": "aeaf7c8d-0b0a-4b2e-f199-18dcbb18922c"
      },
      "source": [
        "distribution(features, ['MarkDown3','MarkDown4'])"
      ],
      "execution_count": null,
      "outputs": [
        {
          "output_type": "stream",
          "text": [
            "/usr/local/lib/python3.6/dist-packages/numpy/lib/histograms.py:839: RuntimeWarning: invalid value encountered in greater_equal\n",
            "  keep = (tmp_a >= first_edge)\n",
            "/usr/local/lib/python3.6/dist-packages/numpy/lib/histograms.py:840: RuntimeWarning: invalid value encountered in less_equal\n",
            "  keep &= (tmp_a <= last_edge)\n"
          ],
          "name": "stderr"
        },
        {
          "output_type": "display_data",
          "data": {
            "image/png": "[encoded data removed]",
            "text/plain": [
              "<Figure size 792x360 with 2 Axes>"
            ]
          },
          "metadata": {
            "tags": [],
            "needs_background": "light"
          }
        }
      ]
    },
    {
      "cell_type": "code",
      "metadata": {
        "colab": {
          "base_uri": "https://localhost:8080/",
          "height": 462
        },
        "id": "0iH2fS2XVHu_",
        "outputId": "6ab6603f-ab0a-45b5-ce2e-da76d590581b"
      },
      "source": [
        "distribution(features, ['MarkDown5'])"
      ],
      "execution_count": null,
      "outputs": [
        {
          "output_type": "stream",
          "text": [
            "/usr/local/lib/python3.6/dist-packages/numpy/lib/histograms.py:839: RuntimeWarning: invalid value encountered in greater_equal\n",
            "  keep = (tmp_a >= first_edge)\n",
            "/usr/local/lib/python3.6/dist-packages/numpy/lib/histograms.py:840: RuntimeWarning: invalid value encountered in less_equal\n",
            "  keep &= (tmp_a <= last_edge)\n"
          ],
          "name": "stderr"
        },
        {
          "output_type": "display_data",
          "data": {
            "image/png": "[encoded data removed]",
            "text/plain": [
              "<Figure size 792x360 with 1 Axes>"
            ]
          },
          "metadata": {
            "tags": [],
            "needs_background": "light"
          }
        }
      ]
    },
    {
      "cell_type": "code",
      "metadata": {
        "id": "zyIITbl2L8T2"
      },
      "source": [
        "train_m1 = train.merge(features, on=['Store','Date','IsHoliday'],how='left').fillna(0)\n",
        "train_merge = train_m1.merge(stores, on=['Store'], how='left').fillna(0)\n",
        "train_data = train_merge.head(len(train_merge) - 450)\n",
        "#The last 450 rows of data are split off into a validation dataset\n",
        "train_validate = train_merge.tail(450)"
      ],
      "execution_count": null,
      "outputs": []
    },
    {
      "cell_type": "code",
      "metadata": {
        "colab": {
          "base_uri": "https://localhost:8080/",
          "height": 534
        },
        "id": "mFhAepRkL_uf",
        "outputId": "9db85660-cfcc-452c-f1c7-35a49f376911"
      },
      "source": [
        "train_data.tail(10)"
      ],
      "execution_count": null,
      "outputs": [
        {
          "output_type": "execute_result",
          "data": {
            "text/html": [
              "<div>\n",
              "<style scoped>\n",
              "    .dataframe tbody tr th:only-of-type {\n",
              "        vertical-align: middle;\n",
              "    }\n",
              "\n",
              "    .dataframe tbody tr th {\n",
              "        vertical-align: top;\n",
              "    }\n",
              "\n",
              "    .dataframe thead th {\n",
              "        text-align: right;\n",
              "    }\n",
              "</style>\n",
              "<table border=\"1\" class=\"dataframe\">\n",
              "  <thead>\n",
              "    <tr style=\"text-align: right;\">\n",
              "      <th></th>\n",
              "      <th>Store</th>\n",
              "      <th>Dept</th>\n",
              "      <th>Date</th>\n",
              "      <th>Weekly_Sales</th>\n",
              "      <th>IsHoliday</th>\n",
              "      <th>Temperature</th>\n",
              "      <th>Fuel_Price</th>\n",
              "      <th>MarkDown1</th>\n",
              "      <th>MarkDown2</th>\n",
              "      <th>MarkDown3</th>\n",
              "      <th>MarkDown4</th>\n",
              "      <th>MarkDown5</th>\n",
              "      <th>CPI</th>\n",
              "      <th>Unemployment</th>\n",
              "      <th>Type</th>\n",
              "      <th>Size</th>\n",
              "    </tr>\n",
              "  </thead>\n",
              "  <tbody>\n",
              "    <tr>\n",
              "      <th>421110</th>\n",
              "      <td>45</td>\n",
              "      <td>94</td>\n",
              "      <td>2012-02-17</td>\n",
              "      <td>7148.87</td>\n",
              "      <td>False</td>\n",
              "      <td>36.85</td>\n",
              "      <td>3.695</td>\n",
              "      <td>8683.43</td>\n",
              "      <td>7421.99</td>\n",
              "      <td>1.76</td>\n",
              "      <td>9084.92</td>\n",
              "      <td>1995.22</td>\n",
              "      <td>189.842483</td>\n",
              "      <td>8.424</td>\n",
              "      <td>B</td>\n",
              "      <td>118221</td>\n",
              "    </tr>\n",
              "    <tr>\n",
              "      <th>421111</th>\n",
              "      <td>45</td>\n",
              "      <td>94</td>\n",
              "      <td>2012-02-24</td>\n",
              "      <td>3413.84</td>\n",
              "      <td>False</td>\n",
              "      <td>42.86</td>\n",
              "      <td>3.739</td>\n",
              "      <td>9006.21</td>\n",
              "      <td>5786.94</td>\n",
              "      <td>2.00</td>\n",
              "      <td>4291.22</td>\n",
              "      <td>7626.46</td>\n",
              "      <td>190.006988</td>\n",
              "      <td>8.424</td>\n",
              "      <td>B</td>\n",
              "      <td>118221</td>\n",
              "    </tr>\n",
              "    <tr>\n",
              "      <th>421112</th>\n",
              "      <td>45</td>\n",
              "      <td>94</td>\n",
              "      <td>2012-03-02</td>\n",
              "      <td>4127.58</td>\n",
              "      <td>False</td>\n",
              "      <td>41.55</td>\n",
              "      <td>3.816</td>\n",
              "      <td>22832.38</td>\n",
              "      <td>2515.25</td>\n",
              "      <td>4.00</td>\n",
              "      <td>13317.88</td>\n",
              "      <td>2560.48</td>\n",
              "      <td>190.171493</td>\n",
              "      <td>8.424</td>\n",
              "      <td>B</td>\n",
              "      <td>118221</td>\n",
              "    </tr>\n",
              "    <tr>\n",
              "      <th>421113</th>\n",
              "      <td>45</td>\n",
              "      <td>94</td>\n",
              "      <td>2012-03-09</td>\n",
              "      <td>4191.64</td>\n",
              "      <td>False</td>\n",
              "      <td>45.52</td>\n",
              "      <td>3.848</td>\n",
              "      <td>11139.34</td>\n",
              "      <td>678.08</td>\n",
              "      <td>1.99</td>\n",
              "      <td>3267.21</td>\n",
              "      <td>4971.47</td>\n",
              "      <td>190.335997</td>\n",
              "      <td>8.424</td>\n",
              "      <td>B</td>\n",
              "      <td>118221</td>\n",
              "    </tr>\n",
              "    <tr>\n",
              "      <th>421114</th>\n",
              "      <td>45</td>\n",
              "      <td>94</td>\n",
              "      <td>2012-03-16</td>\n",
              "      <td>429.56</td>\n",
              "      <td>False</td>\n",
              "      <td>50.56</td>\n",
              "      <td>3.862</td>\n",
              "      <td>5811.44</td>\n",
              "      <td>375.70</td>\n",
              "      <td>3.69</td>\n",
              "      <td>3444.05</td>\n",
              "      <td>2706.47</td>\n",
              "      <td>190.461896</td>\n",
              "      <td>8.424</td>\n",
              "      <td>B</td>\n",
              "      <td>118221</td>\n",
              "    </tr>\n",
              "    <tr>\n",
              "      <th>421115</th>\n",
              "      <td>45</td>\n",
              "      <td>94</td>\n",
              "      <td>2012-03-23</td>\n",
              "      <td>12.72</td>\n",
              "      <td>False</td>\n",
              "      <td>59.45</td>\n",
              "      <td>3.900</td>\n",
              "      <td>6296.25</td>\n",
              "      <td>334.42</td>\n",
              "      <td>4.56</td>\n",
              "      <td>873.47</td>\n",
              "      <td>1201.57</td>\n",
              "      <td>190.536321</td>\n",
              "      <td>8.424</td>\n",
              "      <td>B</td>\n",
              "      <td>118221</td>\n",
              "    </tr>\n",
              "    <tr>\n",
              "      <th>421116</th>\n",
              "      <td>45</td>\n",
              "      <td>94</td>\n",
              "      <td>2012-03-30</td>\n",
              "      <td>1270.75</td>\n",
              "      <td>False</td>\n",
              "      <td>50.04</td>\n",
              "      <td>3.953</td>\n",
              "      <td>9866.15</td>\n",
              "      <td>206.18</td>\n",
              "      <td>3.25</td>\n",
              "      <td>1815.37</td>\n",
              "      <td>1561.56</td>\n",
              "      <td>190.610746</td>\n",
              "      <td>8.424</td>\n",
              "      <td>B</td>\n",
              "      <td>118221</td>\n",
              "    </tr>\n",
              "    <tr>\n",
              "      <th>421117</th>\n",
              "      <td>45</td>\n",
              "      <td>94</td>\n",
              "      <td>2012-04-06</td>\n",
              "      <td>2853.87</td>\n",
              "      <td>False</td>\n",
              "      <td>49.73</td>\n",
              "      <td>3.996</td>\n",
              "      <td>13450.45</td>\n",
              "      <td>0.00</td>\n",
              "      <td>26.59</td>\n",
              "      <td>3363.54</td>\n",
              "      <td>3962.01</td>\n",
              "      <td>190.685171</td>\n",
              "      <td>8.567</td>\n",
              "      <td>B</td>\n",
              "      <td>118221</td>\n",
              "    </tr>\n",
              "    <tr>\n",
              "      <th>421118</th>\n",
              "      <td>45</td>\n",
              "      <td>94</td>\n",
              "      <td>2012-04-13</td>\n",
              "      <td>2863.76</td>\n",
              "      <td>False</td>\n",
              "      <td>51.83</td>\n",
              "      <td>4.044</td>\n",
              "      <td>4736.94</td>\n",
              "      <td>6047.12</td>\n",
              "      <td>16.68</td>\n",
              "      <td>1355.11</td>\n",
              "      <td>2246.12</td>\n",
              "      <td>190.759596</td>\n",
              "      <td>8.567</td>\n",
              "      <td>B</td>\n",
              "      <td>118221</td>\n",
              "    </tr>\n",
              "    <tr>\n",
              "      <th>421119</th>\n",
              "      <td>45</td>\n",
              "      <td>94</td>\n",
              "      <td>2012-04-20</td>\n",
              "      <td>3110.30</td>\n",
              "      <td>False</td>\n",
              "      <td>63.13</td>\n",
              "      <td>4.027</td>\n",
              "      <td>9210.90</td>\n",
              "      <td>2667.05</td>\n",
              "      <td>6.25</td>\n",
              "      <td>970.33</td>\n",
              "      <td>2568.22</td>\n",
              "      <td>190.813801</td>\n",
              "      <td>8.567</td>\n",
              "      <td>B</td>\n",
              "      <td>118221</td>\n",
              "    </tr>\n",
              "  </tbody>\n",
              "</table>\n",
              "</div>"
            ],
            "text/plain": [
              "        Store  Dept        Date  ...  Unemployment  Type    Size\n",
              "421110     45    94  2012-02-17  ...         8.424     B  118221\n",
              "421111     45    94  2012-02-24  ...         8.424     B  118221\n",
              "421112     45    94  2012-03-02  ...         8.424     B  118221\n",
              "421113     45    94  2012-03-09  ...         8.424     B  118221\n",
              "421114     45    94  2012-03-16  ...         8.424     B  118221\n",
              "421115     45    94  2012-03-23  ...         8.424     B  118221\n",
              "421116     45    94  2012-03-30  ...         8.424     B  118221\n",
              "421117     45    94  2012-04-06  ...         8.567     B  118221\n",
              "421118     45    94  2012-04-13  ...         8.567     B  118221\n",
              "421119     45    94  2012-04-20  ...         8.567     B  118221\n",
              "\n",
              "[10 rows x 16 columns]"
            ]
          },
          "metadata": {
            "tags": []
          },
          "execution_count": 4
        }
      ]
    },
    {
      "cell_type": "code",
      "metadata": {
        "colab": {
          "base_uri": "https://localhost:8080/",
          "height": 406
        },
        "id": "F_Zt2Ip0MFW-",
        "outputId": "ddaa7daa-7f19-442f-eb8f-02c7ce5c1a14"
      },
      "source": [
        "train_validate"
      ],
      "execution_count": null,
      "outputs": [
        {
          "output_type": "execute_result",
          "data": {
            "text/html": [
              "<div>\n",
              "<style scoped>\n",
              "    .dataframe tbody tr th:only-of-type {\n",
              "        vertical-align: middle;\n",
              "    }\n",
              "\n",
              "    .dataframe tbody tr th {\n",
              "        vertical-align: top;\n",
              "    }\n",
              "\n",
              "    .dataframe thead th {\n",
              "        text-align: right;\n",
              "    }\n",
              "</style>\n",
              "<table border=\"1\" class=\"dataframe\">\n",
              "  <thead>\n",
              "    <tr style=\"text-align: right;\">\n",
              "      <th></th>\n",
              "      <th>Store</th>\n",
              "      <th>Dept</th>\n",
              "      <th>Date</th>\n",
              "      <th>Weekly_Sales</th>\n",
              "      <th>IsHoliday</th>\n",
              "      <th>Temperature</th>\n",
              "      <th>Fuel_Price</th>\n",
              "      <th>MarkDown1</th>\n",
              "      <th>MarkDown2</th>\n",
              "      <th>MarkDown3</th>\n",
              "      <th>MarkDown4</th>\n",
              "      <th>MarkDown5</th>\n",
              "      <th>CPI</th>\n",
              "      <th>Unemployment</th>\n",
              "      <th>Type</th>\n",
              "      <th>Size</th>\n",
              "    </tr>\n",
              "  </thead>\n",
              "  <tbody>\n",
              "    <tr>\n",
              "      <th>421120</th>\n",
              "      <td>45</td>\n",
              "      <td>94</td>\n",
              "      <td>2012-04-27</td>\n",
              "      <td>3109.40</td>\n",
              "      <td>False</td>\n",
              "      <td>53.20</td>\n",
              "      <td>4.004</td>\n",
              "      <td>2872.86</td>\n",
              "      <td>0.03</td>\n",
              "      <td>37.12</td>\n",
              "      <td>74.97</td>\n",
              "      <td>2495.29</td>\n",
              "      <td>190.868006</td>\n",
              "      <td>8.567</td>\n",
              "      <td>B</td>\n",
              "      <td>118221</td>\n",
              "    </tr>\n",
              "    <tr>\n",
              "      <th>421121</th>\n",
              "      <td>45</td>\n",
              "      <td>94</td>\n",
              "      <td>2012-05-04</td>\n",
              "      <td>3123.83</td>\n",
              "      <td>False</td>\n",
              "      <td>55.21</td>\n",
              "      <td>3.951</td>\n",
              "      <td>11984.62</td>\n",
              "      <td>0.00</td>\n",
              "      <td>47.52</td>\n",
              "      <td>6150.63</td>\n",
              "      <td>1775.54</td>\n",
              "      <td>190.922212</td>\n",
              "      <td>8.567</td>\n",
              "      <td>B</td>\n",
              "      <td>118221</td>\n",
              "    </tr>\n",
              "    <tr>\n",
              "      <th>421122</th>\n",
              "      <td>45</td>\n",
              "      <td>94</td>\n",
              "      <td>2012-05-11</td>\n",
              "      <td>3800.78</td>\n",
              "      <td>False</td>\n",
              "      <td>61.24</td>\n",
              "      <td>3.889</td>\n",
              "      <td>12611.18</td>\n",
              "      <td>0.00</td>\n",
              "      <td>21.36</td>\n",
              "      <td>1667.39</td>\n",
              "      <td>2313.12</td>\n",
              "      <td>190.976417</td>\n",
              "      <td>8.567</td>\n",
              "      <td>B</td>\n",
              "      <td>118221</td>\n",
              "    </tr>\n",
              "    <tr>\n",
              "      <th>421123</th>\n",
              "      <td>45</td>\n",
              "      <td>94</td>\n",
              "      <td>2012-05-18</td>\n",
              "      <td>5918.72</td>\n",
              "      <td>False</td>\n",
              "      <td>66.30</td>\n",
              "      <td>3.848</td>\n",
              "      <td>6813.74</td>\n",
              "      <td>0.00</td>\n",
              "      <td>13.86</td>\n",
              "      <td>936.49</td>\n",
              "      <td>2941.55</td>\n",
              "      <td>190.996448</td>\n",
              "      <td>8.567</td>\n",
              "      <td>B</td>\n",
              "      <td>118221</td>\n",
              "    </tr>\n",
              "    <tr>\n",
              "      <th>421124</th>\n",
              "      <td>45</td>\n",
              "      <td>94</td>\n",
              "      <td>2012-05-25</td>\n",
              "      <td>2878.50</td>\n",
              "      <td>False</td>\n",
              "      <td>67.21</td>\n",
              "      <td>3.798</td>\n",
              "      <td>5370.39</td>\n",
              "      <td>0.00</td>\n",
              "      <td>361.22</td>\n",
              "      <td>1287.62</td>\n",
              "      <td>2461.81</td>\n",
              "      <td>191.002810</td>\n",
              "      <td>8.567</td>\n",
              "      <td>B</td>\n",
              "      <td>118221</td>\n",
              "    </tr>\n",
              "    <tr>\n",
              "      <th>...</th>\n",
              "      <td>...</td>\n",
              "      <td>...</td>\n",
              "      <td>...</td>\n",
              "      <td>...</td>\n",
              "      <td>...</td>\n",
              "      <td>...</td>\n",
              "      <td>...</td>\n",
              "      <td>...</td>\n",
              "      <td>...</td>\n",
              "      <td>...</td>\n",
              "      <td>...</td>\n",
              "      <td>...</td>\n",
              "      <td>...</td>\n",
              "      <td>...</td>\n",
              "      <td>...</td>\n",
              "      <td>...</td>\n",
              "    </tr>\n",
              "    <tr>\n",
              "      <th>421565</th>\n",
              "      <td>45</td>\n",
              "      <td>98</td>\n",
              "      <td>2012-09-28</td>\n",
              "      <td>508.37</td>\n",
              "      <td>False</td>\n",
              "      <td>64.88</td>\n",
              "      <td>3.997</td>\n",
              "      <td>4556.61</td>\n",
              "      <td>20.64</td>\n",
              "      <td>1.50</td>\n",
              "      <td>1601.01</td>\n",
              "      <td>3288.25</td>\n",
              "      <td>192.013558</td>\n",
              "      <td>8.684</td>\n",
              "      <td>B</td>\n",
              "      <td>118221</td>\n",
              "    </tr>\n",
              "    <tr>\n",
              "      <th>421566</th>\n",
              "      <td>45</td>\n",
              "      <td>98</td>\n",
              "      <td>2012-10-05</td>\n",
              "      <td>628.10</td>\n",
              "      <td>False</td>\n",
              "      <td>64.89</td>\n",
              "      <td>3.985</td>\n",
              "      <td>5046.74</td>\n",
              "      <td>0.00</td>\n",
              "      <td>18.82</td>\n",
              "      <td>2253.43</td>\n",
              "      <td>2340.01</td>\n",
              "      <td>192.170412</td>\n",
              "      <td>8.667</td>\n",
              "      <td>B</td>\n",
              "      <td>118221</td>\n",
              "    </tr>\n",
              "    <tr>\n",
              "      <th>421567</th>\n",
              "      <td>45</td>\n",
              "      <td>98</td>\n",
              "      <td>2012-10-12</td>\n",
              "      <td>1061.02</td>\n",
              "      <td>False</td>\n",
              "      <td>54.47</td>\n",
              "      <td>4.000</td>\n",
              "      <td>1956.28</td>\n",
              "      <td>0.00</td>\n",
              "      <td>7.89</td>\n",
              "      <td>599.32</td>\n",
              "      <td>3990.54</td>\n",
              "      <td>192.327265</td>\n",
              "      <td>8.667</td>\n",
              "      <td>B</td>\n",
              "      <td>118221</td>\n",
              "    </tr>\n",
              "    <tr>\n",
              "      <th>421568</th>\n",
              "      <td>45</td>\n",
              "      <td>98</td>\n",
              "      <td>2012-10-19</td>\n",
              "      <td>760.01</td>\n",
              "      <td>False</td>\n",
              "      <td>56.47</td>\n",
              "      <td>3.969</td>\n",
              "      <td>2004.02</td>\n",
              "      <td>0.00</td>\n",
              "      <td>3.18</td>\n",
              "      <td>437.73</td>\n",
              "      <td>1537.49</td>\n",
              "      <td>192.330854</td>\n",
              "      <td>8.667</td>\n",
              "      <td>B</td>\n",
              "      <td>118221</td>\n",
              "    </tr>\n",
              "    <tr>\n",
              "      <th>421569</th>\n",
              "      <td>45</td>\n",
              "      <td>98</td>\n",
              "      <td>2012-10-26</td>\n",
              "      <td>1076.80</td>\n",
              "      <td>False</td>\n",
              "      <td>58.85</td>\n",
              "      <td>3.882</td>\n",
              "      <td>4018.91</td>\n",
              "      <td>58.08</td>\n",
              "      <td>100.00</td>\n",
              "      <td>211.94</td>\n",
              "      <td>858.33</td>\n",
              "      <td>192.308899</td>\n",
              "      <td>8.667</td>\n",
              "      <td>B</td>\n",
              "      <td>118221</td>\n",
              "    </tr>\n",
              "  </tbody>\n",
              "</table>\n",
              "<p>450 rows × 16 columns</p>\n",
              "</div>"
            ],
            "text/plain": [
              "        Store  Dept        Date  ...  Unemployment  Type    Size\n",
              "421120     45    94  2012-04-27  ...         8.567     B  118221\n",
              "421121     45    94  2012-05-04  ...         8.567     B  118221\n",
              "421122     45    94  2012-05-11  ...         8.567     B  118221\n",
              "421123     45    94  2012-05-18  ...         8.567     B  118221\n",
              "421124     45    94  2012-05-25  ...         8.567     B  118221\n",
              "...       ...   ...         ...  ...           ...   ...     ...\n",
              "421565     45    98  2012-09-28  ...         8.684     B  118221\n",
              "421566     45    98  2012-10-05  ...         8.667     B  118221\n",
              "421567     45    98  2012-10-12  ...         8.667     B  118221\n",
              "421568     45    98  2012-10-19  ...         8.667     B  118221\n",
              "421569     45    98  2012-10-26  ...         8.667     B  118221\n",
              "\n",
              "[450 rows x 16 columns]"
            ]
          },
          "metadata": {
            "tags": []
          },
          "execution_count": 6
        }
      ]
    },
    {
      "cell_type": "code",
      "metadata": {
        "colab": {
          "base_uri": "https://localhost:8080/",
          "height": 1000
        },
        "id": "DQDpDaTEMKIs",
        "outputId": "ea54ba71-aa3c-4dfe-9ad6-67f0ef3cd21c"
      },
      "source": [
        "train_data['Date'] = pd.to_datetime(train_data['Date'])\n",
        "train_data['Year'] = train_data['Date'].dt.year\n",
        "train_data['Week'] = train_data['Date'].dt.week\n",
        "train_data['YearWeek'] = train_data.Year.astype(str).str.cat(train_data.Week.astype(str))\n",
        "train_data.drop(['Date', 'Year', 'Week'], axis=1, inplace=True)\n",
        "train_data['YearWeek'] = train_data.YearWeek.astype(int)\n",
        "train_data = pd.get_dummies(train_data)\n",
        "train_data"
      ],
      "execution_count": null,
      "outputs": [
        {
          "output_type": "stream",
          "text": [
            "/usr/local/lib/python3.6/dist-packages/ipykernel_launcher.py:1: SettingWithCopyWarning: \n",
            "A value is trying to be set on a copy of a slice from a DataFrame.\n",
            "Try using .loc[row_indexer,col_indexer] = value instead\n",
            "\n",
            "See the caveats in the documentation: https://pandas.pydata.org/pandas-docs/stable/user_guide/indexing.html#returning-a-view-versus-a-copy\n",
            "  \"\"\"Entry point for launching an IPython kernel.\n",
            "/usr/local/lib/python3.6/dist-packages/ipykernel_launcher.py:2: SettingWithCopyWarning: \n",
            "A value is trying to be set on a copy of a slice from a DataFrame.\n",
            "Try using .loc[row_indexer,col_indexer] = value instead\n",
            "\n",
            "See the caveats in the documentation: https://pandas.pydata.org/pandas-docs/stable/user_guide/indexing.html#returning-a-view-versus-a-copy\n",
            "  \n",
            "/usr/local/lib/python3.6/dist-packages/ipykernel_launcher.py:3: FutureWarning: Series.dt.weekofyear and Series.dt.week have been deprecated.  Please use Series.dt.isocalendar().week instead.\n",
            "  This is separate from the ipykernel package so we can avoid doing imports until\n",
            "/usr/local/lib/python3.6/dist-packages/ipykernel_launcher.py:3: SettingWithCopyWarning: \n",
            "A value is trying to be set on a copy of a slice from a DataFrame.\n",
            "Try using .loc[row_indexer,col_indexer] = value instead\n",
            "\n",
            "See the caveats in the documentation: https://pandas.pydata.org/pandas-docs/stable/user_guide/indexing.html#returning-a-view-versus-a-copy\n",
            "  This is separate from the ipykernel package so we can avoid doing imports until\n",
            "/usr/local/lib/python3.6/dist-packages/ipykernel_launcher.py:4: SettingWithCopyWarning: \n",
            "A value is trying to be set on a copy of a slice from a DataFrame.\n",
            "Try using .loc[row_indexer,col_indexer] = value instead\n",
            "\n",
            "See the caveats in the documentation: https://pandas.pydata.org/pandas-docs/stable/user_guide/indexing.html#returning-a-view-versus-a-copy\n",
            "  after removing the cwd from sys.path.\n",
            "/usr/local/lib/python3.6/dist-packages/pandas/core/frame.py:4174: SettingWithCopyWarning: \n",
            "A value is trying to be set on a copy of a slice from a DataFrame\n",
            "\n",
            "See the caveats in the documentation: https://pandas.pydata.org/pandas-docs/stable/user_guide/indexing.html#returning-a-view-versus-a-copy\n",
            "  errors=errors,\n",
            "/usr/local/lib/python3.6/dist-packages/ipykernel_launcher.py:6: SettingWithCopyWarning: \n",
            "A value is trying to be set on a copy of a slice from a DataFrame.\n",
            "Try using .loc[row_indexer,col_indexer] = value instead\n",
            "\n",
            "See the caveats in the documentation: https://pandas.pydata.org/pandas-docs/stable/user_guide/indexing.html#returning-a-view-versus-a-copy\n",
            "  \n"
          ],
          "name": "stderr"
        },
        {
          "output_type": "execute_result",
          "data": {
            "text/html": [
              "<div>\n",
              "<style scoped>\n",
              "    .dataframe tbody tr th:only-of-type {\n",
              "        vertical-align: middle;\n",
              "    }\n",
              "\n",
              "    .dataframe tbody tr th {\n",
              "        vertical-align: top;\n",
              "    }\n",
              "\n",
              "    .dataframe thead th {\n",
              "        text-align: right;\n",
              "    }\n",
              "</style>\n",
              "<table border=\"1\" class=\"dataframe\">\n",
              "  <thead>\n",
              "    <tr style=\"text-align: right;\">\n",
              "      <th></th>\n",
              "      <th>Store</th>\n",
              "      <th>Dept</th>\n",
              "      <th>Weekly_Sales</th>\n",
              "      <th>IsHoliday</th>\n",
              "      <th>Temperature</th>\n",
              "      <th>Fuel_Price</th>\n",
              "      <th>MarkDown1</th>\n",
              "      <th>MarkDown2</th>\n",
              "      <th>MarkDown3</th>\n",
              "      <th>MarkDown4</th>\n",
              "      <th>MarkDown5</th>\n",
              "      <th>CPI</th>\n",
              "      <th>Unemployment</th>\n",
              "      <th>Size</th>\n",
              "      <th>YearWeek</th>\n",
              "      <th>Type_A</th>\n",
              "      <th>Type_B</th>\n",
              "      <th>Type_C</th>\n",
              "    </tr>\n",
              "  </thead>\n",
              "  <tbody>\n",
              "    <tr>\n",
              "      <th>0</th>\n",
              "      <td>1</td>\n",
              "      <td>1</td>\n",
              "      <td>24924.50</td>\n",
              "      <td>False</td>\n",
              "      <td>42.31</td>\n",
              "      <td>2.572</td>\n",
              "      <td>0.00</td>\n",
              "      <td>0.00</td>\n",
              "      <td>0.00</td>\n",
              "      <td>0.00</td>\n",
              "      <td>0.00</td>\n",
              "      <td>211.096358</td>\n",
              "      <td>8.106</td>\n",
              "      <td>151315</td>\n",
              "      <td>20105</td>\n",
              "      <td>1</td>\n",
              "      <td>0</td>\n",
              "      <td>0</td>\n",
              "    </tr>\n",
              "    <tr>\n",
              "      <th>1</th>\n",
              "      <td>1</td>\n",
              "      <td>1</td>\n",
              "      <td>46039.49</td>\n",
              "      <td>True</td>\n",
              "      <td>38.51</td>\n",
              "      <td>2.548</td>\n",
              "      <td>0.00</td>\n",
              "      <td>0.00</td>\n",
              "      <td>0.00</td>\n",
              "      <td>0.00</td>\n",
              "      <td>0.00</td>\n",
              "      <td>211.242170</td>\n",
              "      <td>8.106</td>\n",
              "      <td>151315</td>\n",
              "      <td>20106</td>\n",
              "      <td>1</td>\n",
              "      <td>0</td>\n",
              "      <td>0</td>\n",
              "    </tr>\n",
              "    <tr>\n",
              "      <th>2</th>\n",
              "      <td>1</td>\n",
              "      <td>1</td>\n",
              "      <td>41595.55</td>\n",
              "      <td>False</td>\n",
              "      <td>39.93</td>\n",
              "      <td>2.514</td>\n",
              "      <td>0.00</td>\n",
              "      <td>0.00</td>\n",
              "      <td>0.00</td>\n",
              "      <td>0.00</td>\n",
              "      <td>0.00</td>\n",
              "      <td>211.289143</td>\n",
              "      <td>8.106</td>\n",
              "      <td>151315</td>\n",
              "      <td>20107</td>\n",
              "      <td>1</td>\n",
              "      <td>0</td>\n",
              "      <td>0</td>\n",
              "    </tr>\n",
              "    <tr>\n",
              "      <th>3</th>\n",
              "      <td>1</td>\n",
              "      <td>1</td>\n",
              "      <td>19403.54</td>\n",
              "      <td>False</td>\n",
              "      <td>46.63</td>\n",
              "      <td>2.561</td>\n",
              "      <td>0.00</td>\n",
              "      <td>0.00</td>\n",
              "      <td>0.00</td>\n",
              "      <td>0.00</td>\n",
              "      <td>0.00</td>\n",
              "      <td>211.319643</td>\n",
              "      <td>8.106</td>\n",
              "      <td>151315</td>\n",
              "      <td>20108</td>\n",
              "      <td>1</td>\n",
              "      <td>0</td>\n",
              "      <td>0</td>\n",
              "    </tr>\n",
              "    <tr>\n",
              "      <th>4</th>\n",
              "      <td>1</td>\n",
              "      <td>1</td>\n",
              "      <td>21827.90</td>\n",
              "      <td>False</td>\n",
              "      <td>46.50</td>\n",
              "      <td>2.625</td>\n",
              "      <td>0.00</td>\n",
              "      <td>0.00</td>\n",
              "      <td>0.00</td>\n",
              "      <td>0.00</td>\n",
              "      <td>0.00</td>\n",
              "      <td>211.350143</td>\n",
              "      <td>8.106</td>\n",
              "      <td>151315</td>\n",
              "      <td>20109</td>\n",
              "      <td>1</td>\n",
              "      <td>0</td>\n",
              "      <td>0</td>\n",
              "    </tr>\n",
              "    <tr>\n",
              "      <th>...</th>\n",
              "      <td>...</td>\n",
              "      <td>...</td>\n",
              "      <td>...</td>\n",
              "      <td>...</td>\n",
              "      <td>...</td>\n",
              "      <td>...</td>\n",
              "      <td>...</td>\n",
              "      <td>...</td>\n",
              "      <td>...</td>\n",
              "      <td>...</td>\n",
              "      <td>...</td>\n",
              "      <td>...</td>\n",
              "      <td>...</td>\n",
              "      <td>...</td>\n",
              "      <td>...</td>\n",
              "      <td>...</td>\n",
              "      <td>...</td>\n",
              "      <td>...</td>\n",
              "    </tr>\n",
              "    <tr>\n",
              "      <th>421115</th>\n",
              "      <td>45</td>\n",
              "      <td>94</td>\n",
              "      <td>12.72</td>\n",
              "      <td>False</td>\n",
              "      <td>59.45</td>\n",
              "      <td>3.900</td>\n",
              "      <td>6296.25</td>\n",
              "      <td>334.42</td>\n",
              "      <td>4.56</td>\n",
              "      <td>873.47</td>\n",
              "      <td>1201.57</td>\n",
              "      <td>190.536321</td>\n",
              "      <td>8.424</td>\n",
              "      <td>118221</td>\n",
              "      <td>201212</td>\n",
              "      <td>0</td>\n",
              "      <td>1</td>\n",
              "      <td>0</td>\n",
              "    </tr>\n",
              "    <tr>\n",
              "      <th>421116</th>\n",
              "      <td>45</td>\n",
              "      <td>94</td>\n",
              "      <td>1270.75</td>\n",
              "      <td>False</td>\n",
              "      <td>50.04</td>\n",
              "      <td>3.953</td>\n",
              "      <td>9866.15</td>\n",
              "      <td>206.18</td>\n",
              "      <td>3.25</td>\n",
              "      <td>1815.37</td>\n",
              "      <td>1561.56</td>\n",
              "      <td>190.610746</td>\n",
              "      <td>8.424</td>\n",
              "      <td>118221</td>\n",
              "      <td>201213</td>\n",
              "      <td>0</td>\n",
              "      <td>1</td>\n",
              "      <td>0</td>\n",
              "    </tr>\n",
              "    <tr>\n",
              "      <th>421117</th>\n",
              "      <td>45</td>\n",
              "      <td>94</td>\n",
              "      <td>2853.87</td>\n",
              "      <td>False</td>\n",
              "      <td>49.73</td>\n",
              "      <td>3.996</td>\n",
              "      <td>13450.45</td>\n",
              "      <td>0.00</td>\n",
              "      <td>26.59</td>\n",
              "      <td>3363.54</td>\n",
              "      <td>3962.01</td>\n",
              "      <td>190.685171</td>\n",
              "      <td>8.567</td>\n",
              "      <td>118221</td>\n",
              "      <td>201214</td>\n",
              "      <td>0</td>\n",
              "      <td>1</td>\n",
              "      <td>0</td>\n",
              "    </tr>\n",
              "    <tr>\n",
              "      <th>421118</th>\n",
              "      <td>45</td>\n",
              "      <td>94</td>\n",
              "      <td>2863.76</td>\n",
              "      <td>False</td>\n",
              "      <td>51.83</td>\n",
              "      <td>4.044</td>\n",
              "      <td>4736.94</td>\n",
              "      <td>6047.12</td>\n",
              "      <td>16.68</td>\n",
              "      <td>1355.11</td>\n",
              "      <td>2246.12</td>\n",
              "      <td>190.759596</td>\n",
              "      <td>8.567</td>\n",
              "      <td>118221</td>\n",
              "      <td>201215</td>\n",
              "      <td>0</td>\n",
              "      <td>1</td>\n",
              "      <td>0</td>\n",
              "    </tr>\n",
              "    <tr>\n",
              "      <th>421119</th>\n",
              "      <td>45</td>\n",
              "      <td>94</td>\n",
              "      <td>3110.30</td>\n",
              "      <td>False</td>\n",
              "      <td>63.13</td>\n",
              "      <td>4.027</td>\n",
              "      <td>9210.90</td>\n",
              "      <td>2667.05</td>\n",
              "      <td>6.25</td>\n",
              "      <td>970.33</td>\n",
              "      <td>2568.22</td>\n",
              "      <td>190.813801</td>\n",
              "      <td>8.567</td>\n",
              "      <td>118221</td>\n",
              "      <td>201216</td>\n",
              "      <td>0</td>\n",
              "      <td>1</td>\n",
              "      <td>0</td>\n",
              "    </tr>\n",
              "  </tbody>\n",
              "</table>\n",
              "<p>421120 rows × 18 columns</p>\n",
              "</div>"
            ],
            "text/plain": [
              "        Store  Dept  Weekly_Sales  IsHoliday  ...  YearWeek  Type_A  Type_B  Type_C\n",
              "0           1     1      24924.50      False  ...     20105       1       0       0\n",
              "1           1     1      46039.49       True  ...     20106       1       0       0\n",
              "2           1     1      41595.55      False  ...     20107       1       0       0\n",
              "3           1     1      19403.54      False  ...     20108       1       0       0\n",
              "4           1     1      21827.90      False  ...     20109       1       0       0\n",
              "...       ...   ...           ...        ...  ...       ...     ...     ...     ...\n",
              "421115     45    94         12.72      False  ...    201212       0       1       0\n",
              "421116     45    94       1270.75      False  ...    201213       0       1       0\n",
              "421117     45    94       2853.87      False  ...    201214       0       1       0\n",
              "421118     45    94       2863.76      False  ...    201215       0       1       0\n",
              "421119     45    94       3110.30      False  ...    201216       0       1       0\n",
              "\n",
              "[421120 rows x 18 columns]"
            ]
          },
          "metadata": {
            "tags": []
          },
          "execution_count": 5
        }
      ]
    },
    {
      "cell_type": "code",
      "metadata": {
        "id": "uA5ZTpmYMPzT"
      },
      "source": [
        "y = targets = labels = train_data[\"Weekly_Sales\"].values\n",
        "\n",
        "columns = [\"Store\", \"Dept\", \"YearWeek\", \"IsHoliday\", \"CPI\", \"Unemployment\", \"Size\", \"Temperature\", \"Fuel_Price\", \"MarkDown1\", \"MarkDown2\", \"MarkDown3\", \"MarkDown4\", \"MarkDown5\", \"Type_A\", \"Type_B\", \"Type_C\"]\n",
        "features = train_data[list(columns)].values\n",
        "features\n",
        "X_train, X_test, y_train, y_test = train_test_split(features, targets, test_size=0.18, random_state=1)"
      ],
      "execution_count": null,
      "outputs": []
    },
    {
      "cell_type": "code",
      "metadata": {
        "colab": {
          "base_uri": "https://localhost:8080/"
        },
        "id": "JNUPkVXwMTno",
        "outputId": "40018775-0581-45af-b825-008ffa6dd441"
      },
      "source": [
        "regressor = DecisionTreeRegressor(max_depth=32, random_state=0)\n",
        "regressor.fit(X_train, y_train)"
      ],
      "execution_count": null,
      "outputs": [
        {
          "output_type": "execute_result",
          "data": {
            "text/plain": [
              "DecisionTreeRegressor(ccp_alpha=0.0, criterion='mse', max_depth=32,\n",
              "                      max_features=None, max_leaf_nodes=None,\n",
              "                      min_impurity_decrease=0.0, min_impurity_split=None,\n",
              "                      min_samples_leaf=1, min_samples_split=2,\n",
              "                      min_weight_fraction_leaf=0.0, presort='deprecated',\n",
              "                      random_state=0, splitter='best')"
            ]
          },
          "metadata": {
            "tags": []
          },
          "execution_count": 7
        }
      ]
    },
    {
      "cell_type": "code",
      "metadata": {
        "colab": {
          "base_uri": "https://localhost:8080/"
        },
        "id": "rxnG1sa_MWrq",
        "outputId": "a6b66b5d-06f9-4969-fa10-c4205efbe238"
      },
      "source": [
        "regressor.score(X_test, y_test)"
      ],
      "execution_count": null,
      "outputs": [
        {
          "output_type": "execute_result",
          "data": {
            "text/plain": [
              "0.9210390524962895"
            ]
          },
          "metadata": {
            "tags": []
          },
          "execution_count": 8
        }
      ]
    },
    {
      "cell_type": "code",
      "metadata": {
        "colab": {
          "base_uri": "https://localhost:8080/"
        },
        "id": "8S-othBlMZ1r",
        "outputId": "bb630c21-ca3c-4b9d-ce84-c4bb906b67bf"
      },
      "source": [
        "list(zip(columns, regressor.feature_importances_))"
      ],
      "execution_count": null,
      "outputs": [
        {
          "output_type": "execute_result",
          "data": {
            "text/plain": [
              "[('Store', 0.05296829000572884),\n",
              " ('Dept', 0.6293425505391306),\n",
              " ('YearWeek', 0.025067552291701357),\n",
              " ('IsHoliday', 0.003032698908389444),\n",
              " ('CPI', 0.027909622320034938),\n",
              " ('Unemployment', 0.011484705181047813),\n",
              " ('Size', 0.1839676781846934),\n",
              " ('Temperature', 0.015878605289541537),\n",
              " ('Fuel_Price', 0.011383741010612902),\n",
              " ('MarkDown1', 0.0012210274713202547),\n",
              " ('MarkDown2', 0.0016972173272374648),\n",
              " ('MarkDown3', 0.01709172822799941),\n",
              " ('MarkDown4', 0.0025549196810581874),\n",
              " ('MarkDown5', 0.0018452837863343907),\n",
              " ('Type_A', 0.00260188617199919),\n",
              " ('Type_B', 0.01171370396270277),\n",
              " ('Type_C', 0.00023878964046758128)]"
            ]
          },
          "metadata": {
            "tags": []
          },
          "execution_count": 9
        }
      ]
    },
    {
      "cell_type": "code",
      "metadata": {
        "colab": {
          "base_uri": "https://localhost:8080/"
        },
        "id": "Bu5UdiVbMd1U",
        "outputId": "ecfb4213-6eeb-41af-9c43-f8d0cf140dde"
      },
      "source": [
        "gbr = GradientBoostingRegressor()\n",
        "gbr.fit(X_train, y_train)"
      ],
      "execution_count": null,
      "outputs": [
        {
          "output_type": "execute_result",
          "data": {
            "text/plain": [
              "GradientBoostingRegressor(alpha=0.9, ccp_alpha=0.0, criterion='friedman_mse',\n",
              "                          init=None, learning_rate=0.1, loss='ls', max_depth=3,\n",
              "                          max_features=None, max_leaf_nodes=None,\n",
              "                          min_impurity_decrease=0.0, min_impurity_split=None,\n",
              "                          min_samples_leaf=1, min_samples_split=2,\n",
              "                          min_weight_fraction_leaf=0.0, n_estimators=100,\n",
              "                          n_iter_no_change=None, presort='deprecated',\n",
              "                          random_state=None, subsample=1.0, tol=0.0001,\n",
              "                          validation_fraction=0.1, verbose=0, warm_start=False)"
            ]
          },
          "metadata": {
            "tags": []
          },
          "execution_count": 10
        }
      ]
    },
    {
      "cell_type": "code",
      "metadata": {
        "colab": {
          "base_uri": "https://localhost:8080/"
        },
        "id": "cXgXjf-xMiAH",
        "outputId": "7edf9971-8c7d-4a93-d2b0-13ecf8ae9e37"
      },
      "source": [
        "gbr.score(X_test, y_test)"
      ],
      "execution_count": null,
      "outputs": [
        {
          "output_type": "execute_result",
          "data": {
            "text/plain": [
              "0.7414631959871238"
            ]
          },
          "metadata": {
            "tags": []
          },
          "execution_count": 11
        }
      ]
    },
    {
      "cell_type": "code",
      "metadata": {
        "colab": {
          "base_uri": "https://localhost:8080/"
        },
        "id": "ZvG-wcqwMlVG",
        "outputId": "feeeb176-d7e0-4ef6-cdc7-3d60da55e38e"
      },
      "source": [
        "list(zip(columns, gbr.feature_importances_))"
      ],
      "execution_count": null,
      "outputs": [
        {
          "output_type": "execute_result",
          "data": {
            "text/plain": [
              "[('Store', 0.02430086535829693),\n",
              " ('Dept', 0.7463098321770597),\n",
              " ('YearWeek', 0.0007896636080569066),\n",
              " ('IsHoliday', 0.0008618417757848632),\n",
              " ('CPI', 0.009197936639669878),\n",
              " ('Unemployment', 0.0003930648435354388),\n",
              " ('Size', 0.19012369620074268),\n",
              " ('Temperature', 0.0005666315306227785),\n",
              " ('Fuel_Price', 0.0),\n",
              " ('MarkDown1', 0.0),\n",
              " ('MarkDown2', 0.0),\n",
              " ('MarkDown3', 0.009970382062287383),\n",
              " ('MarkDown4', 0.0001400304430406006),\n",
              " ('MarkDown5', 0.0),\n",
              " ('Type_A', 0.00011674800158876078),\n",
              " ('Type_B', 0.015806656735878537),\n",
              " ('Type_C', 0.0014226506234356563)]"
            ]
          },
          "metadata": {
            "tags": []
          },
          "execution_count": 12
        }
      ]
    },
    {
      "cell_type": "code",
      "metadata": {
        "colab": {
          "base_uri": "https://localhost:8080/"
        },
        "id": "FAs-t-tnMpXP",
        "outputId": "8908e222-7411-410c-97c3-9306be40fc91"
      },
      "source": [
        "rfr = RandomForestRegressor()\n",
        "rfr.fit(X_train, y_train)"
      ],
      "execution_count": null,
      "outputs": [
        {
          "output_type": "execute_result",
          "data": {
            "text/plain": [
              "RandomForestRegressor(bootstrap=True, ccp_alpha=0.0, criterion='mse',\n",
              "                      max_depth=None, max_features='auto', max_leaf_nodes=None,\n",
              "                      max_samples=None, min_impurity_decrease=0.0,\n",
              "                      min_impurity_split=None, min_samples_leaf=1,\n",
              "                      min_samples_split=2, min_weight_fraction_leaf=0.0,\n",
              "                      n_estimators=100, n_jobs=None, oob_score=False,\n",
              "                      random_state=None, verbose=0, warm_start=False)"
            ]
          },
          "metadata": {
            "tags": []
          },
          "execution_count": 13
        }
      ]
    },
    {
      "cell_type": "code",
      "metadata": {
        "colab": {
          "base_uri": "https://localhost:8080/"
        },
        "id": "e3tXIQdIMsnC",
        "outputId": "7c1ec1f8-0589-449b-fab4-e2663b5d7aec"
      },
      "source": [
        "\n",
        "rfr.score(X_test, y_test)"
      ],
      "execution_count": null,
      "outputs": [
        {
          "output_type": "execute_result",
          "data": {
            "text/plain": [
              "0.962008904853113"
            ]
          },
          "metadata": {
            "tags": []
          },
          "execution_count": 14
        }
      ]
    },
    {
      "cell_type": "code",
      "metadata": {
        "colab": {
          "base_uri": "https://localhost:8080/"
        },
        "id": "rlV6VCX_M0cS",
        "outputId": "d94a9ca9-8bc6-466b-b157-3b4b152e7eaf"
      },
      "source": [
        "linreg = LinearRegression()\n",
        "linreg.fit(X_train, y_train)"
      ],
      "execution_count": null,
      "outputs": [
        {
          "output_type": "execute_result",
          "data": {
            "text/plain": [
              "LinearRegression(copy_X=True, fit_intercept=True, n_jobs=None, normalize=False)"
            ]
          },
          "metadata": {
            "tags": []
          },
          "execution_count": 15
        }
      ]
    },
    {
      "cell_type": "code",
      "metadata": {
        "colab": {
          "base_uri": "https://localhost:8080/"
        },
        "id": "zip1US6hM4kY",
        "outputId": "4029f80a-9df9-402c-b593-4ee12e80bf31"
      },
      "source": [
        "linreg.score(X_test, y_test)"
      ],
      "execution_count": null,
      "outputs": [
        {
          "output_type": "execute_result",
          "data": {
            "text/plain": [
              "0.09171247456318421"
            ]
          },
          "metadata": {
            "tags": []
          },
          "execution_count": 16
        }
      ]
    },
    {
      "cell_type": "code",
      "metadata": {
        "colab": {
          "base_uri": "https://localhost:8080/"
        },
        "id": "_NhYIFzmM8OP",
        "outputId": "2726fb3f-b109-4acc-e5ae-113db801fc8f"
      },
      "source": [
        "list(zip(columns, linreg.coef_))"
      ],
      "execution_count": null,
      "outputs": [
        {
          "output_type": "execute_result",
          "data": {
            "text/plain": [
              "[('Store', -142.38789697459308),\n",
              " ('Dept', 109.6501931093025),\n",
              " ('YearWeek', 0.004404201997530931),\n",
              " ('IsHoliday', 481.75848978123213),\n",
              " ('CPI', -24.902788707169325),\n",
              " ('Unemployment', -187.26807883487112),\n",
              " ('Size', 0.09667609367079684),\n",
              " ('Temperature', 4.433029171801944),\n",
              " ('Fuel_Price', -499.7880278210082),\n",
              " ('MarkDown1', 0.002312314383443172),\n",
              " ('MarkDown2', 0.005144205356322665),\n",
              " ('MarkDown3', 0.11537808930894256),\n",
              " ('MarkDown4', 0.03933468355418181),\n",
              " ('MarkDown5', 0.09348035346114063),\n",
              " ('Type_A', -1756.6540691258253),\n",
              " ('Type_B', -2197.274399753804),\n",
              " ('Type_C', 3953.9284688796297)]"
            ]
          },
          "metadata": {
            "tags": []
          },
          "execution_count": 17
        }
      ]
    },
    {
      "cell_type": "code",
      "metadata": {
        "colab": {
          "base_uri": "https://localhost:8080/"
        },
        "id": "6X34LKRnNCW9",
        "outputId": "d0265efd-e882-4c45-bbb8-6bbc76b1fbaf"
      },
      "source": [
        "bayreg = BayesianRidge(compute_score=True)\n",
        "bayreg.fit(X_train, y_train)"
      ],
      "execution_count": null,
      "outputs": [
        {
          "output_type": "execute_result",
          "data": {
            "text/plain": [
              "BayesianRidge(alpha_1=1e-06, alpha_2=1e-06, alpha_init=None, compute_score=True,\n",
              "              copy_X=True, fit_intercept=True, lambda_1=1e-06, lambda_2=1e-06,\n",
              "              lambda_init=None, n_iter=300, normalize=False, tol=0.001,\n",
              "              verbose=False)"
            ]
          },
          "metadata": {
            "tags": []
          },
          "execution_count": 18
        }
      ]
    },
    {
      "cell_type": "code",
      "metadata": {
        "colab": {
          "base_uri": "https://localhost:8080/"
        },
        "id": "DSWbPTN-NFY7",
        "outputId": "365978a6-c4fc-43d0-ea23-9311eafe85d6"
      },
      "source": [
        "bayreg.score(X_test, y_test)"
      ],
      "execution_count": null,
      "outputs": [
        {
          "output_type": "execute_result",
          "data": {
            "text/plain": [
              "0.09170504000886914"
            ]
          },
          "metadata": {
            "tags": []
          },
          "execution_count": 19
        }
      ]
    },
    {
      "cell_type": "code",
      "metadata": {
        "colab": {
          "base_uri": "https://localhost:8080/"
        },
        "id": "ZP9Ldc0iNJGy",
        "outputId": "d38303e6-30b0-4f4f-adee-b2de5f0b7cdd"
      },
      "source": [
        "list(zip(columns, bayreg.coef_))"
      ],
      "execution_count": null,
      "outputs": [
        {
          "output_type": "execute_result",
          "data": {
            "text/plain": [
              "[('Store', -141.88974217226695),\n",
              " ('Dept', 109.65952275081185),\n",
              " ('YearWeek', 0.004384036972714661),\n",
              " ('IsHoliday', 474.6393627841227),\n",
              " ('CPI', -24.876981751250625),\n",
              " ('Unemployment', -186.05734336208863),\n",
              " ('Size', 0.096407885237558),\n",
              " ('Temperature', 4.541471749233413),\n",
              " ('Fuel_Price', -496.66033632559083),\n",
              " ('MarkDown1', 0.0020302613345761535),\n",
              " ('MarkDown2', 0.005299637258006832),\n",
              " ('MarkDown3', 0.11548958254976278),\n",
              " ('MarkDown4', 0.03961237795347405),\n",
              " ('MarkDown5', 0.09341077664879675),\n",
              " ('Type_A', -1721.5307199462259),\n",
              " ('Type_B', -2179.8102576418314),\n",
              " ('Type_C', 3901.3409776135813)]"
            ]
          },
          "metadata": {
            "tags": []
          },
          "execution_count": 20
        }
      ]
    },
    {
      "cell_type": "code",
      "metadata": {
        "colab": {
          "base_uri": "https://localhost:8080/",
          "height": 1000
        },
        "id": "S9nyiq58VkpY",
        "outputId": "f58ceb23-7375-41ca-b435-32dd35965f71"
      },
      "source": [
        "train_validate['Date'] = pd.to_datetime(train_validate['Date'])\n",
        "train_validate['Year'] = train_validate['Date'].dt.year\n",
        "train_validate['Week'] = train_validate['Date'].dt.week\n",
        "train_validate['YearWeek'] = train_validate.Year.astype(str).str.cat(train_validate.Week.astype(str))\n",
        "train_validate.drop(['Date', 'Year', 'Week'], axis=1, inplace=True)\n",
        "train_validate['YearWeek'] = train_validate.YearWeek.astype(int)\n",
        "train_validate = pd.get_dummies(train_validate)\n",
        "train_validate['Type_A'] = 0\n",
        "train_validate['Type_C'] = 0\n",
        "train_validate"
      ],
      "execution_count": null,
      "outputs": [
        {
          "output_type": "stream",
          "text": [
            "/usr/local/lib/python3.6/dist-packages/ipykernel_launcher.py:1: SettingWithCopyWarning: \n",
            "A value is trying to be set on a copy of a slice from a DataFrame.\n",
            "Try using .loc[row_indexer,col_indexer] = value instead\n",
            "\n",
            "See the caveats in the documentation: https://pandas.pydata.org/pandas-docs/stable/user_guide/indexing.html#returning-a-view-versus-a-copy\n",
            "  \"\"\"Entry point for launching an IPython kernel.\n",
            "/usr/local/lib/python3.6/dist-packages/ipykernel_launcher.py:2: SettingWithCopyWarning: \n",
            "A value is trying to be set on a copy of a slice from a DataFrame.\n",
            "Try using .loc[row_indexer,col_indexer] = value instead\n",
            "\n",
            "See the caveats in the documentation: https://pandas.pydata.org/pandas-docs/stable/user_guide/indexing.html#returning-a-view-versus-a-copy\n",
            "  \n",
            "/usr/local/lib/python3.6/dist-packages/ipykernel_launcher.py:3: FutureWarning: Series.dt.weekofyear and Series.dt.week have been deprecated.  Please use Series.dt.isocalendar().week instead.\n",
            "  This is separate from the ipykernel package so we can avoid doing imports until\n",
            "/usr/local/lib/python3.6/dist-packages/ipykernel_launcher.py:3: SettingWithCopyWarning: \n",
            "A value is trying to be set on a copy of a slice from a DataFrame.\n",
            "Try using .loc[row_indexer,col_indexer] = value instead\n",
            "\n",
            "See the caveats in the documentation: https://pandas.pydata.org/pandas-docs/stable/user_guide/indexing.html#returning-a-view-versus-a-copy\n",
            "  This is separate from the ipykernel package so we can avoid doing imports until\n",
            "/usr/local/lib/python3.6/dist-packages/ipykernel_launcher.py:4: SettingWithCopyWarning: \n",
            "A value is trying to be set on a copy of a slice from a DataFrame.\n",
            "Try using .loc[row_indexer,col_indexer] = value instead\n",
            "\n",
            "See the caveats in the documentation: https://pandas.pydata.org/pandas-docs/stable/user_guide/indexing.html#returning-a-view-versus-a-copy\n",
            "  after removing the cwd from sys.path.\n",
            "/usr/local/lib/python3.6/dist-packages/pandas/core/frame.py:4174: SettingWithCopyWarning: \n",
            "A value is trying to be set on a copy of a slice from a DataFrame\n",
            "\n",
            "See the caveats in the documentation: https://pandas.pydata.org/pandas-docs/stable/user_guide/indexing.html#returning-a-view-versus-a-copy\n",
            "  errors=errors,\n",
            "/usr/local/lib/python3.6/dist-packages/ipykernel_launcher.py:6: SettingWithCopyWarning: \n",
            "A value is trying to be set on a copy of a slice from a DataFrame.\n",
            "Try using .loc[row_indexer,col_indexer] = value instead\n",
            "\n",
            "See the caveats in the documentation: https://pandas.pydata.org/pandas-docs/stable/user_guide/indexing.html#returning-a-view-versus-a-copy\n",
            "  \n"
          ],
          "name": "stderr"
        },
        {
          "output_type": "execute_result",
          "data": {
            "text/html": [
              "<div>\n",
              "<style scoped>\n",
              "    .dataframe tbody tr th:only-of-type {\n",
              "        vertical-align: middle;\n",
              "    }\n",
              "\n",
              "    .dataframe tbody tr th {\n",
              "        vertical-align: top;\n",
              "    }\n",
              "\n",
              "    .dataframe thead th {\n",
              "        text-align: right;\n",
              "    }\n",
              "</style>\n",
              "<table border=\"1\" class=\"dataframe\">\n",
              "  <thead>\n",
              "    <tr style=\"text-align: right;\">\n",
              "      <th></th>\n",
              "      <th>Store</th>\n",
              "      <th>Dept</th>\n",
              "      <th>Weekly_Sales</th>\n",
              "      <th>IsHoliday</th>\n",
              "      <th>Temperature</th>\n",
              "      <th>Fuel_Price</th>\n",
              "      <th>MarkDown1</th>\n",
              "      <th>MarkDown2</th>\n",
              "      <th>MarkDown3</th>\n",
              "      <th>MarkDown4</th>\n",
              "      <th>MarkDown5</th>\n",
              "      <th>CPI</th>\n",
              "      <th>Unemployment</th>\n",
              "      <th>Size</th>\n",
              "      <th>YearWeek</th>\n",
              "      <th>Type_B</th>\n",
              "      <th>Type_A</th>\n",
              "      <th>Type_C</th>\n",
              "    </tr>\n",
              "  </thead>\n",
              "  <tbody>\n",
              "    <tr>\n",
              "      <th>421120</th>\n",
              "      <td>45</td>\n",
              "      <td>94</td>\n",
              "      <td>3109.40</td>\n",
              "      <td>False</td>\n",
              "      <td>53.20</td>\n",
              "      <td>4.004</td>\n",
              "      <td>2872.86</td>\n",
              "      <td>0.03</td>\n",
              "      <td>37.12</td>\n",
              "      <td>74.97</td>\n",
              "      <td>2495.29</td>\n",
              "      <td>190.868006</td>\n",
              "      <td>8.567</td>\n",
              "      <td>118221</td>\n",
              "      <td>201217</td>\n",
              "      <td>1</td>\n",
              "      <td>0</td>\n",
              "      <td>0</td>\n",
              "    </tr>\n",
              "    <tr>\n",
              "      <th>421121</th>\n",
              "      <td>45</td>\n",
              "      <td>94</td>\n",
              "      <td>3123.83</td>\n",
              "      <td>False</td>\n",
              "      <td>55.21</td>\n",
              "      <td>3.951</td>\n",
              "      <td>11984.62</td>\n",
              "      <td>0.00</td>\n",
              "      <td>47.52</td>\n",
              "      <td>6150.63</td>\n",
              "      <td>1775.54</td>\n",
              "      <td>190.922212</td>\n",
              "      <td>8.567</td>\n",
              "      <td>118221</td>\n",
              "      <td>201218</td>\n",
              "      <td>1</td>\n",
              "      <td>0</td>\n",
              "      <td>0</td>\n",
              "    </tr>\n",
              "    <tr>\n",
              "      <th>421122</th>\n",
              "      <td>45</td>\n",
              "      <td>94</td>\n",
              "      <td>3800.78</td>\n",
              "      <td>False</td>\n",
              "      <td>61.24</td>\n",
              "      <td>3.889</td>\n",
              "      <td>12611.18</td>\n",
              "      <td>0.00</td>\n",
              "      <td>21.36</td>\n",
              "      <td>1667.39</td>\n",
              "      <td>2313.12</td>\n",
              "      <td>190.976417</td>\n",
              "      <td>8.567</td>\n",
              "      <td>118221</td>\n",
              "      <td>201219</td>\n",
              "      <td>1</td>\n",
              "      <td>0</td>\n",
              "      <td>0</td>\n",
              "    </tr>\n",
              "    <tr>\n",
              "      <th>421123</th>\n",
              "      <td>45</td>\n",
              "      <td>94</td>\n",
              "      <td>5918.72</td>\n",
              "      <td>False</td>\n",
              "      <td>66.30</td>\n",
              "      <td>3.848</td>\n",
              "      <td>6813.74</td>\n",
              "      <td>0.00</td>\n",
              "      <td>13.86</td>\n",
              "      <td>936.49</td>\n",
              "      <td>2941.55</td>\n",
              "      <td>190.996448</td>\n",
              "      <td>8.567</td>\n",
              "      <td>118221</td>\n",
              "      <td>201220</td>\n",
              "      <td>1</td>\n",
              "      <td>0</td>\n",
              "      <td>0</td>\n",
              "    </tr>\n",
              "    <tr>\n",
              "      <th>421124</th>\n",
              "      <td>45</td>\n",
              "      <td>94</td>\n",
              "      <td>2878.50</td>\n",
              "      <td>False</td>\n",
              "      <td>67.21</td>\n",
              "      <td>3.798</td>\n",
              "      <td>5370.39</td>\n",
              "      <td>0.00</td>\n",
              "      <td>361.22</td>\n",
              "      <td>1287.62</td>\n",
              "      <td>2461.81</td>\n",
              "      <td>191.002810</td>\n",
              "      <td>8.567</td>\n",
              "      <td>118221</td>\n",
              "      <td>201221</td>\n",
              "      <td>1</td>\n",
              "      <td>0</td>\n",
              "      <td>0</td>\n",
              "    </tr>\n",
              "    <tr>\n",
              "      <th>...</th>\n",
              "      <td>...</td>\n",
              "      <td>...</td>\n",
              "      <td>...</td>\n",
              "      <td>...</td>\n",
              "      <td>...</td>\n",
              "      <td>...</td>\n",
              "      <td>...</td>\n",
              "      <td>...</td>\n",
              "      <td>...</td>\n",
              "      <td>...</td>\n",
              "      <td>...</td>\n",
              "      <td>...</td>\n",
              "      <td>...</td>\n",
              "      <td>...</td>\n",
              "      <td>...</td>\n",
              "      <td>...</td>\n",
              "      <td>...</td>\n",
              "      <td>...</td>\n",
              "    </tr>\n",
              "    <tr>\n",
              "      <th>421565</th>\n",
              "      <td>45</td>\n",
              "      <td>98</td>\n",
              "      <td>508.37</td>\n",
              "      <td>False</td>\n",
              "      <td>64.88</td>\n",
              "      <td>3.997</td>\n",
              "      <td>4556.61</td>\n",
              "      <td>20.64</td>\n",
              "      <td>1.50</td>\n",
              "      <td>1601.01</td>\n",
              "      <td>3288.25</td>\n",
              "      <td>192.013558</td>\n",
              "      <td>8.684</td>\n",
              "      <td>118221</td>\n",
              "      <td>201239</td>\n",
              "      <td>1</td>\n",
              "      <td>0</td>\n",
              "      <td>0</td>\n",
              "    </tr>\n",
              "    <tr>\n",
              "      <th>421566</th>\n",
              "      <td>45</td>\n",
              "      <td>98</td>\n",
              "      <td>628.10</td>\n",
              "      <td>False</td>\n",
              "      <td>64.89</td>\n",
              "      <td>3.985</td>\n",
              "      <td>5046.74</td>\n",
              "      <td>0.00</td>\n",
              "      <td>18.82</td>\n",
              "      <td>2253.43</td>\n",
              "      <td>2340.01</td>\n",
              "      <td>192.170412</td>\n",
              "      <td>8.667</td>\n",
              "      <td>118221</td>\n",
              "      <td>201240</td>\n",
              "      <td>1</td>\n",
              "      <td>0</td>\n",
              "      <td>0</td>\n",
              "    </tr>\n",
              "    <tr>\n",
              "      <th>421567</th>\n",
              "      <td>45</td>\n",
              "      <td>98</td>\n",
              "      <td>1061.02</td>\n",
              "      <td>False</td>\n",
              "      <td>54.47</td>\n",
              "      <td>4.000</td>\n",
              "      <td>1956.28</td>\n",
              "      <td>0.00</td>\n",
              "      <td>7.89</td>\n",
              "      <td>599.32</td>\n",
              "      <td>3990.54</td>\n",
              "      <td>192.327265</td>\n",
              "      <td>8.667</td>\n",
              "      <td>118221</td>\n",
              "      <td>201241</td>\n",
              "      <td>1</td>\n",
              "      <td>0</td>\n",
              "      <td>0</td>\n",
              "    </tr>\n",
              "    <tr>\n",
              "      <th>421568</th>\n",
              "      <td>45</td>\n",
              "      <td>98</td>\n",
              "      <td>760.01</td>\n",
              "      <td>False</td>\n",
              "      <td>56.47</td>\n",
              "      <td>3.969</td>\n",
              "      <td>2004.02</td>\n",
              "      <td>0.00</td>\n",
              "      <td>3.18</td>\n",
              "      <td>437.73</td>\n",
              "      <td>1537.49</td>\n",
              "      <td>192.330854</td>\n",
              "      <td>8.667</td>\n",
              "      <td>118221</td>\n",
              "      <td>201242</td>\n",
              "      <td>1</td>\n",
              "      <td>0</td>\n",
              "      <td>0</td>\n",
              "    </tr>\n",
              "    <tr>\n",
              "      <th>421569</th>\n",
              "      <td>45</td>\n",
              "      <td>98</td>\n",
              "      <td>1076.80</td>\n",
              "      <td>False</td>\n",
              "      <td>58.85</td>\n",
              "      <td>3.882</td>\n",
              "      <td>4018.91</td>\n",
              "      <td>58.08</td>\n",
              "      <td>100.00</td>\n",
              "      <td>211.94</td>\n",
              "      <td>858.33</td>\n",
              "      <td>192.308899</td>\n",
              "      <td>8.667</td>\n",
              "      <td>118221</td>\n",
              "      <td>201243</td>\n",
              "      <td>1</td>\n",
              "      <td>0</td>\n",
              "      <td>0</td>\n",
              "    </tr>\n",
              "  </tbody>\n",
              "</table>\n",
              "<p>450 rows × 18 columns</p>\n",
              "</div>"
            ],
            "text/plain": [
              "        Store  Dept  Weekly_Sales  IsHoliday  ...  YearWeek  Type_B  Type_A  Type_C\n",
              "421120     45    94       3109.40      False  ...    201217       1       0       0\n",
              "421121     45    94       3123.83      False  ...    201218       1       0       0\n",
              "421122     45    94       3800.78      False  ...    201219       1       0       0\n",
              "421123     45    94       5918.72      False  ...    201220       1       0       0\n",
              "421124     45    94       2878.50      False  ...    201221       1       0       0\n",
              "...       ...   ...           ...        ...  ...       ...     ...     ...     ...\n",
              "421565     45    98        508.37      False  ...    201239       1       0       0\n",
              "421566     45    98        628.10      False  ...    201240       1       0       0\n",
              "421567     45    98       1061.02      False  ...    201241       1       0       0\n",
              "421568     45    98        760.01      False  ...    201242       1       0       0\n",
              "421569     45    98       1076.80      False  ...    201243       1       0       0\n",
              "\n",
              "[450 rows x 18 columns]"
            ]
          },
          "metadata": {
            "tags": []
          },
          "execution_count": 51
        }
      ]
    },
    {
      "cell_type": "code",
      "metadata": {
        "colab": {
          "base_uri": "https://localhost:8080/"
        },
        "id": "YBS2QCcFVrt8",
        "outputId": "29ffcef4-f137-4b9f-855d-799af40293f4"
      },
      "source": [
        "columns2 = [\"Store\", \"Dept\", \"YearWeek\", \"IsHoliday\", \"CPI\", \"Unemployment\", \"Size\", \"Temperature\", \"Fuel_Price\", \"MarkDown1\", \"MarkDown2\", \"MarkDown3\", \"MarkDown4\", \"MarkDown5\", \"Type_A\", \"Type_B\", \"Type_C\"]\n",
        "features_validate = train_validate[list(columns2)].values\n",
        "features_validate"
      ],
      "execution_count": null,
      "outputs": [
        {
          "output_type": "execute_result",
          "data": {
            "text/plain": [
              "array([[45, 94, 201217, ..., 0, 1, 0],\n",
              "       [45, 94, 201218, ..., 0, 1, 0],\n",
              "       [45, 94, 201219, ..., 0, 1, 0],\n",
              "       ...,\n",
              "       [45, 98, 201241, ..., 0, 1, 0],\n",
              "       [45, 98, 201242, ..., 0, 1, 0],\n",
              "       [45, 98, 201243, ..., 0, 1, 0]], dtype=object)"
            ]
          },
          "metadata": {
            "tags": []
          },
          "execution_count": 52
        }
      ]
    },
    {
      "cell_type": "code",
      "metadata": {
        "id": "CSfGWSRWV0cJ"
      },
      "source": [
        "pred_vals = rfr.predict(features_validate)"
      ],
      "execution_count": null,
      "outputs": []
    },
    {
      "cell_type": "code",
      "metadata": {
        "colab": {
          "base_uri": "https://localhost:8080/",
          "height": 426
        },
        "id": "6C6jMcrpV4rJ",
        "outputId": "73871d34-4340-4476-a203-b346b6cc1776"
      },
      "source": [
        "train_validate['Predicted'] = pred_vals\n",
        "train_validate"
      ],
      "execution_count": null,
      "outputs": [
        {
          "output_type": "execute_result",
          "data": {
            "text/html": [
              "<div>\n",
              "<style scoped>\n",
              "    .dataframe tbody tr th:only-of-type {\n",
              "        vertical-align: middle;\n",
              "    }\n",
              "\n",
              "    .dataframe tbody tr th {\n",
              "        vertical-align: top;\n",
              "    }\n",
              "\n",
              "    .dataframe thead th {\n",
              "        text-align: right;\n",
              "    }\n",
              "</style>\n",
              "<table border=\"1\" class=\"dataframe\">\n",
              "  <thead>\n",
              "    <tr style=\"text-align: right;\">\n",
              "      <th></th>\n",
              "      <th>Store</th>\n",
              "      <th>Dept</th>\n",
              "      <th>Weekly_Sales</th>\n",
              "      <th>IsHoliday</th>\n",
              "      <th>Temperature</th>\n",
              "      <th>Fuel_Price</th>\n",
              "      <th>MarkDown1</th>\n",
              "      <th>MarkDown2</th>\n",
              "      <th>MarkDown3</th>\n",
              "      <th>MarkDown4</th>\n",
              "      <th>MarkDown5</th>\n",
              "      <th>CPI</th>\n",
              "      <th>Unemployment</th>\n",
              "      <th>Size</th>\n",
              "      <th>YearWeek</th>\n",
              "      <th>Type_B</th>\n",
              "      <th>Type_A</th>\n",
              "      <th>Type_C</th>\n",
              "      <th>Predicted</th>\n",
              "    </tr>\n",
              "  </thead>\n",
              "  <tbody>\n",
              "    <tr>\n",
              "      <th>421120</th>\n",
              "      <td>45</td>\n",
              "      <td>94</td>\n",
              "      <td>3109.40</td>\n",
              "      <td>False</td>\n",
              "      <td>53.20</td>\n",
              "      <td>4.004</td>\n",
              "      <td>2872.86</td>\n",
              "      <td>0.03</td>\n",
              "      <td>37.12</td>\n",
              "      <td>74.97</td>\n",
              "      <td>2495.29</td>\n",
              "      <td>190.868006</td>\n",
              "      <td>8.567</td>\n",
              "      <td>118221</td>\n",
              "      <td>201217</td>\n",
              "      <td>1</td>\n",
              "      <td>0</td>\n",
              "      <td>0</td>\n",
              "      <td>2814.1327</td>\n",
              "    </tr>\n",
              "    <tr>\n",
              "      <th>421121</th>\n",
              "      <td>45</td>\n",
              "      <td>94</td>\n",
              "      <td>3123.83</td>\n",
              "      <td>False</td>\n",
              "      <td>55.21</td>\n",
              "      <td>3.951</td>\n",
              "      <td>11984.62</td>\n",
              "      <td>0.00</td>\n",
              "      <td>47.52</td>\n",
              "      <td>6150.63</td>\n",
              "      <td>1775.54</td>\n",
              "      <td>190.922212</td>\n",
              "      <td>8.567</td>\n",
              "      <td>118221</td>\n",
              "      <td>201218</td>\n",
              "      <td>1</td>\n",
              "      <td>0</td>\n",
              "      <td>0</td>\n",
              "      <td>1995.3995</td>\n",
              "    </tr>\n",
              "    <tr>\n",
              "      <th>421122</th>\n",
              "      <td>45</td>\n",
              "      <td>94</td>\n",
              "      <td>3800.78</td>\n",
              "      <td>False</td>\n",
              "      <td>61.24</td>\n",
              "      <td>3.889</td>\n",
              "      <td>12611.18</td>\n",
              "      <td>0.00</td>\n",
              "      <td>21.36</td>\n",
              "      <td>1667.39</td>\n",
              "      <td>2313.12</td>\n",
              "      <td>190.976417</td>\n",
              "      <td>8.567</td>\n",
              "      <td>118221</td>\n",
              "      <td>201219</td>\n",
              "      <td>1</td>\n",
              "      <td>0</td>\n",
              "      <td>0</td>\n",
              "      <td>2556.8696</td>\n",
              "    </tr>\n",
              "    <tr>\n",
              "      <th>421123</th>\n",
              "      <td>45</td>\n",
              "      <td>94</td>\n",
              "      <td>5918.72</td>\n",
              "      <td>False</td>\n",
              "      <td>66.30</td>\n",
              "      <td>3.848</td>\n",
              "      <td>6813.74</td>\n",
              "      <td>0.00</td>\n",
              "      <td>13.86</td>\n",
              "      <td>936.49</td>\n",
              "      <td>2941.55</td>\n",
              "      <td>190.996448</td>\n",
              "      <td>8.567</td>\n",
              "      <td>118221</td>\n",
              "      <td>201220</td>\n",
              "      <td>1</td>\n",
              "      <td>0</td>\n",
              "      <td>0</td>\n",
              "      <td>2518.8375</td>\n",
              "    </tr>\n",
              "    <tr>\n",
              "      <th>421124</th>\n",
              "      <td>45</td>\n",
              "      <td>94</td>\n",
              "      <td>2878.50</td>\n",
              "      <td>False</td>\n",
              "      <td>67.21</td>\n",
              "      <td>3.798</td>\n",
              "      <td>5370.39</td>\n",
              "      <td>0.00</td>\n",
              "      <td>361.22</td>\n",
              "      <td>1287.62</td>\n",
              "      <td>2461.81</td>\n",
              "      <td>191.002810</td>\n",
              "      <td>8.567</td>\n",
              "      <td>118221</td>\n",
              "      <td>201221</td>\n",
              "      <td>1</td>\n",
              "      <td>0</td>\n",
              "      <td>0</td>\n",
              "      <td>2604.5446</td>\n",
              "    </tr>\n",
              "    <tr>\n",
              "      <th>...</th>\n",
              "      <td>...</td>\n",
              "      <td>...</td>\n",
              "      <td>...</td>\n",
              "      <td>...</td>\n",
              "      <td>...</td>\n",
              "      <td>...</td>\n",
              "      <td>...</td>\n",
              "      <td>...</td>\n",
              "      <td>...</td>\n",
              "      <td>...</td>\n",
              "      <td>...</td>\n",
              "      <td>...</td>\n",
              "      <td>...</td>\n",
              "      <td>...</td>\n",
              "      <td>...</td>\n",
              "      <td>...</td>\n",
              "      <td>...</td>\n",
              "      <td>...</td>\n",
              "      <td>...</td>\n",
              "    </tr>\n",
              "    <tr>\n",
              "      <th>421565</th>\n",
              "      <td>45</td>\n",
              "      <td>98</td>\n",
              "      <td>508.37</td>\n",
              "      <td>False</td>\n",
              "      <td>64.88</td>\n",
              "      <td>3.997</td>\n",
              "      <td>4556.61</td>\n",
              "      <td>20.64</td>\n",
              "      <td>1.50</td>\n",
              "      <td>1601.01</td>\n",
              "      <td>3288.25</td>\n",
              "      <td>192.013558</td>\n",
              "      <td>8.684</td>\n",
              "      <td>118221</td>\n",
              "      <td>201239</td>\n",
              "      <td>1</td>\n",
              "      <td>0</td>\n",
              "      <td>0</td>\n",
              "      <td>330.5677</td>\n",
              "    </tr>\n",
              "    <tr>\n",
              "      <th>421566</th>\n",
              "      <td>45</td>\n",
              "      <td>98</td>\n",
              "      <td>628.10</td>\n",
              "      <td>False</td>\n",
              "      <td>64.89</td>\n",
              "      <td>3.985</td>\n",
              "      <td>5046.74</td>\n",
              "      <td>0.00</td>\n",
              "      <td>18.82</td>\n",
              "      <td>2253.43</td>\n",
              "      <td>2340.01</td>\n",
              "      <td>192.170412</td>\n",
              "      <td>8.667</td>\n",
              "      <td>118221</td>\n",
              "      <td>201240</td>\n",
              "      <td>1</td>\n",
              "      <td>0</td>\n",
              "      <td>0</td>\n",
              "      <td>308.5564</td>\n",
              "    </tr>\n",
              "    <tr>\n",
              "      <th>421567</th>\n",
              "      <td>45</td>\n",
              "      <td>98</td>\n",
              "      <td>1061.02</td>\n",
              "      <td>False</td>\n",
              "      <td>54.47</td>\n",
              "      <td>4.000</td>\n",
              "      <td>1956.28</td>\n",
              "      <td>0.00</td>\n",
              "      <td>7.89</td>\n",
              "      <td>599.32</td>\n",
              "      <td>3990.54</td>\n",
              "      <td>192.327265</td>\n",
              "      <td>8.667</td>\n",
              "      <td>118221</td>\n",
              "      <td>201241</td>\n",
              "      <td>1</td>\n",
              "      <td>0</td>\n",
              "      <td>0</td>\n",
              "      <td>399.3876</td>\n",
              "    </tr>\n",
              "    <tr>\n",
              "      <th>421568</th>\n",
              "      <td>45</td>\n",
              "      <td>98</td>\n",
              "      <td>760.01</td>\n",
              "      <td>False</td>\n",
              "      <td>56.47</td>\n",
              "      <td>3.969</td>\n",
              "      <td>2004.02</td>\n",
              "      <td>0.00</td>\n",
              "      <td>3.18</td>\n",
              "      <td>437.73</td>\n",
              "      <td>1537.49</td>\n",
              "      <td>192.330854</td>\n",
              "      <td>8.667</td>\n",
              "      <td>118221</td>\n",
              "      <td>201242</td>\n",
              "      <td>1</td>\n",
              "      <td>0</td>\n",
              "      <td>0</td>\n",
              "      <td>446.1046</td>\n",
              "    </tr>\n",
              "    <tr>\n",
              "      <th>421569</th>\n",
              "      <td>45</td>\n",
              "      <td>98</td>\n",
              "      <td>1076.80</td>\n",
              "      <td>False</td>\n",
              "      <td>58.85</td>\n",
              "      <td>3.882</td>\n",
              "      <td>4018.91</td>\n",
              "      <td>58.08</td>\n",
              "      <td>100.00</td>\n",
              "      <td>211.94</td>\n",
              "      <td>858.33</td>\n",
              "      <td>192.308899</td>\n",
              "      <td>8.667</td>\n",
              "      <td>118221</td>\n",
              "      <td>201243</td>\n",
              "      <td>1</td>\n",
              "      <td>0</td>\n",
              "      <td>0</td>\n",
              "      <td>395.7588</td>\n",
              "    </tr>\n",
              "  </tbody>\n",
              "</table>\n",
              "<p>450 rows × 19 columns</p>\n",
              "</div>"
            ],
            "text/plain": [
              "        Store  Dept  Weekly_Sales  IsHoliday  ...  Type_B  Type_A  Type_C  Predicted\n",
              "421120     45    94       3109.40      False  ...       1       0       0  2814.1327\n",
              "421121     45    94       3123.83      False  ...       1       0       0  1995.3995\n",
              "421122     45    94       3800.78      False  ...       1       0       0  2556.8696\n",
              "421123     45    94       5918.72      False  ...       1       0       0  2518.8375\n",
              "421124     45    94       2878.50      False  ...       1       0       0  2604.5446\n",
              "...       ...   ...           ...        ...  ...     ...     ...     ...        ...\n",
              "421565     45    98        508.37      False  ...       1       0       0   330.5677\n",
              "421566     45    98        628.10      False  ...       1       0       0   308.5564\n",
              "421567     45    98       1061.02      False  ...       1       0       0   399.3876\n",
              "421568     45    98        760.01      False  ...       1       0       0   446.1046\n",
              "421569     45    98       1076.80      False  ...       1       0       0   395.7588\n",
              "\n",
              "[450 rows x 19 columns]"
            ]
          },
          "metadata": {
            "tags": []
          },
          "execution_count": 54
        }
      ]
    },
    {
      "cell_type": "code",
      "metadata": {
        "colab": {
          "base_uri": "https://localhost:8080/",
          "height": 406
        },
        "id": "tqVprsJ7V-ep",
        "outputId": "c68bb4f9-d2cd-4441-a715-fe7d0601ad1a"
      },
      "source": [
        "train_validate.drop(['Temperature', 'Fuel_Price', 'MarkDown1', 'MarkDown2', 'MarkDown3', 'MarkDown4', 'MarkDown5', 'CPI', 'Unemployment', 'Size', 'YearWeek', 'Type_B', 'Type_A', 'Type_C'], axis=1, inplace=True)\n",
        "train_validate"
      ],
      "execution_count": null,
      "outputs": [
        {
          "output_type": "execute_result",
          "data": {
            "text/html": [
              "<div>\n",
              "<style scoped>\n",
              "    .dataframe tbody tr th:only-of-type {\n",
              "        vertical-align: middle;\n",
              "    }\n",
              "\n",
              "    .dataframe tbody tr th {\n",
              "        vertical-align: top;\n",
              "    }\n",
              "\n",
              "    .dataframe thead th {\n",
              "        text-align: right;\n",
              "    }\n",
              "</style>\n",
              "<table border=\"1\" class=\"dataframe\">\n",
              "  <thead>\n",
              "    <tr style=\"text-align: right;\">\n",
              "      <th></th>\n",
              "      <th>Store</th>\n",
              "      <th>Dept</th>\n",
              "      <th>Weekly_Sales</th>\n",
              "      <th>IsHoliday</th>\n",
              "      <th>Predicted</th>\n",
              "    </tr>\n",
              "  </thead>\n",
              "  <tbody>\n",
              "    <tr>\n",
              "      <th>421120</th>\n",
              "      <td>45</td>\n",
              "      <td>94</td>\n",
              "      <td>3109.40</td>\n",
              "      <td>False</td>\n",
              "      <td>2814.1327</td>\n",
              "    </tr>\n",
              "    <tr>\n",
              "      <th>421121</th>\n",
              "      <td>45</td>\n",
              "      <td>94</td>\n",
              "      <td>3123.83</td>\n",
              "      <td>False</td>\n",
              "      <td>1995.3995</td>\n",
              "    </tr>\n",
              "    <tr>\n",
              "      <th>421122</th>\n",
              "      <td>45</td>\n",
              "      <td>94</td>\n",
              "      <td>3800.78</td>\n",
              "      <td>False</td>\n",
              "      <td>2556.8696</td>\n",
              "    </tr>\n",
              "    <tr>\n",
              "      <th>421123</th>\n",
              "      <td>45</td>\n",
              "      <td>94</td>\n",
              "      <td>5918.72</td>\n",
              "      <td>False</td>\n",
              "      <td>2518.8375</td>\n",
              "    </tr>\n",
              "    <tr>\n",
              "      <th>421124</th>\n",
              "      <td>45</td>\n",
              "      <td>94</td>\n",
              "      <td>2878.50</td>\n",
              "      <td>False</td>\n",
              "      <td>2604.5446</td>\n",
              "    </tr>\n",
              "    <tr>\n",
              "      <th>...</th>\n",
              "      <td>...</td>\n",
              "      <td>...</td>\n",
              "      <td>...</td>\n",
              "      <td>...</td>\n",
              "      <td>...</td>\n",
              "    </tr>\n",
              "    <tr>\n",
              "      <th>421565</th>\n",
              "      <td>45</td>\n",
              "      <td>98</td>\n",
              "      <td>508.37</td>\n",
              "      <td>False</td>\n",
              "      <td>330.5677</td>\n",
              "    </tr>\n",
              "    <tr>\n",
              "      <th>421566</th>\n",
              "      <td>45</td>\n",
              "      <td>98</td>\n",
              "      <td>628.10</td>\n",
              "      <td>False</td>\n",
              "      <td>308.5564</td>\n",
              "    </tr>\n",
              "    <tr>\n",
              "      <th>421567</th>\n",
              "      <td>45</td>\n",
              "      <td>98</td>\n",
              "      <td>1061.02</td>\n",
              "      <td>False</td>\n",
              "      <td>399.3876</td>\n",
              "    </tr>\n",
              "    <tr>\n",
              "      <th>421568</th>\n",
              "      <td>45</td>\n",
              "      <td>98</td>\n",
              "      <td>760.01</td>\n",
              "      <td>False</td>\n",
              "      <td>446.1046</td>\n",
              "    </tr>\n",
              "    <tr>\n",
              "      <th>421569</th>\n",
              "      <td>45</td>\n",
              "      <td>98</td>\n",
              "      <td>1076.80</td>\n",
              "      <td>False</td>\n",
              "      <td>395.7588</td>\n",
              "    </tr>\n",
              "  </tbody>\n",
              "</table>\n",
              "<p>450 rows × 5 columns</p>\n",
              "</div>"
            ],
            "text/plain": [
              "        Store  Dept  Weekly_Sales  IsHoliday  Predicted\n",
              "421120     45    94       3109.40      False  2814.1327\n",
              "421121     45    94       3123.83      False  1995.3995\n",
              "421122     45    94       3800.78      False  2556.8696\n",
              "421123     45    94       5918.72      False  2518.8375\n",
              "421124     45    94       2878.50      False  2604.5446\n",
              "...       ...   ...           ...        ...        ...\n",
              "421565     45    98        508.37      False   330.5677\n",
              "421566     45    98        628.10      False   308.5564\n",
              "421567     45    98       1061.02      False   399.3876\n",
              "421568     45    98        760.01      False   446.1046\n",
              "421569     45    98       1076.80      False   395.7588\n",
              "\n",
              "[450 rows x 5 columns]"
            ]
          },
          "metadata": {
            "tags": []
          },
          "execution_count": 55
        }
      ]
    },
    {
      "cell_type": "code",
      "metadata": {
        "id": "l-1bmrlBWKNp"
      },
      "source": [
        "test = pd.read_csv('/content/test.csv')\n",
        "features = pd.read_csv('/content/features.csv')\n",
        "stores = pd.read_csv('/content/stores.csv')\n",
        "test_m1 = test.merge(features, on=['Store','Date','IsHoliday'],how='left').fillna(0)\n",
        "test_merge = test_m1.merge(stores, on=['Store'], how='left').fillna(0)"
      ],
      "execution_count": null,
      "outputs": []
    },
    {
      "cell_type": "code",
      "metadata": {
        "colab": {
          "base_uri": "https://localhost:8080/",
          "height": 462
        },
        "id": "Qk9sRgtaWd5v",
        "outputId": "48614fb1-c3db-4392-a7b9-c2ccad1391f9"
      },
      "source": [
        "test_merge['Date'] = pd.to_datetime(test_merge['Date'])\n",
        "test_merge['Year'] = test_merge['Date'].dt.year\n",
        "test_merge['Week'] = test_merge['Date'].dt.week\n",
        "test_merge['YearWeek'] = test_merge.Year.astype(str).str.cat(test_merge.Week.astype(str))\n",
        "test_merge.drop(['Date', 'Year', 'Week'], axis=1, inplace=True)\n",
        "test_merge['YearWeek'] = test_merge.YearWeek.astype(int)\n",
        "test_merge = pd.get_dummies(test_merge)\n",
        "test_merge"
      ],
      "execution_count": null,
      "outputs": [
        {
          "output_type": "stream",
          "text": [
            "/usr/local/lib/python3.6/dist-packages/ipykernel_launcher.py:3: FutureWarning: Series.dt.weekofyear and Series.dt.week have been deprecated.  Please use Series.dt.isocalendar().week instead.\n",
            "  This is separate from the ipykernel package so we can avoid doing imports until\n"
          ],
          "name": "stderr"
        },
        {
          "output_type": "execute_result",
          "data": {
            "text/html": [
              "<div>\n",
              "<style scoped>\n",
              "    .dataframe tbody tr th:only-of-type {\n",
              "        vertical-align: middle;\n",
              "    }\n",
              "\n",
              "    .dataframe tbody tr th {\n",
              "        vertical-align: top;\n",
              "    }\n",
              "\n",
              "    .dataframe thead th {\n",
              "        text-align: right;\n",
              "    }\n",
              "</style>\n",
              "<table border=\"1\" class=\"dataframe\">\n",
              "  <thead>\n",
              "    <tr style=\"text-align: right;\">\n",
              "      <th></th>\n",
              "      <th>Store</th>\n",
              "      <th>Dept</th>\n",
              "      <th>IsHoliday</th>\n",
              "      <th>Temperature</th>\n",
              "      <th>Fuel_Price</th>\n",
              "      <th>MarkDown1</th>\n",
              "      <th>MarkDown2</th>\n",
              "      <th>MarkDown3</th>\n",
              "      <th>MarkDown4</th>\n",
              "      <th>MarkDown5</th>\n",
              "      <th>CPI</th>\n",
              "      <th>Unemployment</th>\n",
              "      <th>Size</th>\n",
              "      <th>YearWeek</th>\n",
              "      <th>Type_A</th>\n",
              "      <th>Type_B</th>\n",
              "      <th>Type_C</th>\n",
              "    </tr>\n",
              "  </thead>\n",
              "  <tbody>\n",
              "    <tr>\n",
              "      <th>0</th>\n",
              "      <td>1</td>\n",
              "      <td>1</td>\n",
              "      <td>False</td>\n",
              "      <td>55.32</td>\n",
              "      <td>3.386</td>\n",
              "      <td>6766.44</td>\n",
              "      <td>5147.70</td>\n",
              "      <td>50.82</td>\n",
              "      <td>3639.90</td>\n",
              "      <td>2737.42</td>\n",
              "      <td>223.462779</td>\n",
              "      <td>6.573</td>\n",
              "      <td>151315</td>\n",
              "      <td>201244</td>\n",
              "      <td>1</td>\n",
              "      <td>0</td>\n",
              "      <td>0</td>\n",
              "    </tr>\n",
              "    <tr>\n",
              "      <th>1</th>\n",
              "      <td>1</td>\n",
              "      <td>1</td>\n",
              "      <td>False</td>\n",
              "      <td>61.24</td>\n",
              "      <td>3.314</td>\n",
              "      <td>11421.32</td>\n",
              "      <td>3370.89</td>\n",
              "      <td>40.28</td>\n",
              "      <td>4646.79</td>\n",
              "      <td>6154.16</td>\n",
              "      <td>223.481307</td>\n",
              "      <td>6.573</td>\n",
              "      <td>151315</td>\n",
              "      <td>201245</td>\n",
              "      <td>1</td>\n",
              "      <td>0</td>\n",
              "      <td>0</td>\n",
              "    </tr>\n",
              "    <tr>\n",
              "      <th>2</th>\n",
              "      <td>1</td>\n",
              "      <td>1</td>\n",
              "      <td>False</td>\n",
              "      <td>52.92</td>\n",
              "      <td>3.252</td>\n",
              "      <td>9696.28</td>\n",
              "      <td>292.10</td>\n",
              "      <td>103.78</td>\n",
              "      <td>1133.15</td>\n",
              "      <td>6612.69</td>\n",
              "      <td>223.512911</td>\n",
              "      <td>6.573</td>\n",
              "      <td>151315</td>\n",
              "      <td>201246</td>\n",
              "      <td>1</td>\n",
              "      <td>0</td>\n",
              "      <td>0</td>\n",
              "    </tr>\n",
              "    <tr>\n",
              "      <th>3</th>\n",
              "      <td>1</td>\n",
              "      <td>1</td>\n",
              "      <td>True</td>\n",
              "      <td>56.23</td>\n",
              "      <td>3.211</td>\n",
              "      <td>883.59</td>\n",
              "      <td>4.17</td>\n",
              "      <td>74910.32</td>\n",
              "      <td>209.91</td>\n",
              "      <td>303.32</td>\n",
              "      <td>223.561947</td>\n",
              "      <td>6.573</td>\n",
              "      <td>151315</td>\n",
              "      <td>201247</td>\n",
              "      <td>1</td>\n",
              "      <td>0</td>\n",
              "      <td>0</td>\n",
              "    </tr>\n",
              "    <tr>\n",
              "      <th>4</th>\n",
              "      <td>1</td>\n",
              "      <td>1</td>\n",
              "      <td>False</td>\n",
              "      <td>52.34</td>\n",
              "      <td>3.207</td>\n",
              "      <td>2460.03</td>\n",
              "      <td>0.00</td>\n",
              "      <td>3838.35</td>\n",
              "      <td>150.57</td>\n",
              "      <td>6966.34</td>\n",
              "      <td>223.610984</td>\n",
              "      <td>6.573</td>\n",
              "      <td>151315</td>\n",
              "      <td>201248</td>\n",
              "      <td>1</td>\n",
              "      <td>0</td>\n",
              "      <td>0</td>\n",
              "    </tr>\n",
              "    <tr>\n",
              "      <th>...</th>\n",
              "      <td>...</td>\n",
              "      <td>...</td>\n",
              "      <td>...</td>\n",
              "      <td>...</td>\n",
              "      <td>...</td>\n",
              "      <td>...</td>\n",
              "      <td>...</td>\n",
              "      <td>...</td>\n",
              "      <td>...</td>\n",
              "      <td>...</td>\n",
              "      <td>...</td>\n",
              "      <td>...</td>\n",
              "      <td>...</td>\n",
              "      <td>...</td>\n",
              "      <td>...</td>\n",
              "      <td>...</td>\n",
              "      <td>...</td>\n",
              "    </tr>\n",
              "    <tr>\n",
              "      <th>115059</th>\n",
              "      <td>45</td>\n",
              "      <td>98</td>\n",
              "      <td>False</td>\n",
              "      <td>76.05</td>\n",
              "      <td>3.639</td>\n",
              "      <td>4842.29</td>\n",
              "      <td>975.03</td>\n",
              "      <td>3.00</td>\n",
              "      <td>2449.97</td>\n",
              "      <td>3169.69</td>\n",
              "      <td>0.000000</td>\n",
              "      <td>0.000</td>\n",
              "      <td>118221</td>\n",
              "      <td>201326</td>\n",
              "      <td>0</td>\n",
              "      <td>1</td>\n",
              "      <td>0</td>\n",
              "    </tr>\n",
              "    <tr>\n",
              "      <th>115060</th>\n",
              "      <td>45</td>\n",
              "      <td>98</td>\n",
              "      <td>False</td>\n",
              "      <td>77.50</td>\n",
              "      <td>3.614</td>\n",
              "      <td>9090.48</td>\n",
              "      <td>2268.58</td>\n",
              "      <td>582.74</td>\n",
              "      <td>5797.47</td>\n",
              "      <td>1514.93</td>\n",
              "      <td>0.000000</td>\n",
              "      <td>0.000</td>\n",
              "      <td>118221</td>\n",
              "      <td>201327</td>\n",
              "      <td>0</td>\n",
              "      <td>1</td>\n",
              "      <td>0</td>\n",
              "    </tr>\n",
              "    <tr>\n",
              "      <th>115061</th>\n",
              "      <td>45</td>\n",
              "      <td>98</td>\n",
              "      <td>False</td>\n",
              "      <td>79.37</td>\n",
              "      <td>3.614</td>\n",
              "      <td>3789.94</td>\n",
              "      <td>1827.31</td>\n",
              "      <td>85.72</td>\n",
              "      <td>744.84</td>\n",
              "      <td>2150.36</td>\n",
              "      <td>0.000000</td>\n",
              "      <td>0.000</td>\n",
              "      <td>118221</td>\n",
              "      <td>201328</td>\n",
              "      <td>0</td>\n",
              "      <td>1</td>\n",
              "      <td>0</td>\n",
              "    </tr>\n",
              "    <tr>\n",
              "      <th>115062</th>\n",
              "      <td>45</td>\n",
              "      <td>98</td>\n",
              "      <td>False</td>\n",
              "      <td>82.84</td>\n",
              "      <td>3.737</td>\n",
              "      <td>2961.49</td>\n",
              "      <td>1047.07</td>\n",
              "      <td>204.19</td>\n",
              "      <td>363.00</td>\n",
              "      <td>1059.46</td>\n",
              "      <td>0.000000</td>\n",
              "      <td>0.000</td>\n",
              "      <td>118221</td>\n",
              "      <td>201329</td>\n",
              "      <td>0</td>\n",
              "      <td>1</td>\n",
              "      <td>0</td>\n",
              "    </tr>\n",
              "    <tr>\n",
              "      <th>115063</th>\n",
              "      <td>45</td>\n",
              "      <td>98</td>\n",
              "      <td>False</td>\n",
              "      <td>76.06</td>\n",
              "      <td>3.804</td>\n",
              "      <td>212.02</td>\n",
              "      <td>851.73</td>\n",
              "      <td>2.06</td>\n",
              "      <td>10.88</td>\n",
              "      <td>1864.57</td>\n",
              "      <td>0.000000</td>\n",
              "      <td>0.000</td>\n",
              "      <td>118221</td>\n",
              "      <td>201330</td>\n",
              "      <td>0</td>\n",
              "      <td>1</td>\n",
              "      <td>0</td>\n",
              "    </tr>\n",
              "  </tbody>\n",
              "</table>\n",
              "<p>115064 rows × 17 columns</p>\n",
              "</div>"
            ],
            "text/plain": [
              "        Store  Dept  IsHoliday  Temperature  ...  YearWeek  Type_A  Type_B  Type_C\n",
              "0           1     1      False        55.32  ...    201244       1       0       0\n",
              "1           1     1      False        61.24  ...    201245       1       0       0\n",
              "2           1     1      False        52.92  ...    201246       1       0       0\n",
              "3           1     1       True        56.23  ...    201247       1       0       0\n",
              "4           1     1      False        52.34  ...    201248       1       0       0\n",
              "...       ...   ...        ...          ...  ...       ...     ...     ...     ...\n",
              "115059     45    98      False        76.05  ...    201326       0       1       0\n",
              "115060     45    98      False        77.50  ...    201327       0       1       0\n",
              "115061     45    98      False        79.37  ...    201328       0       1       0\n",
              "115062     45    98      False        82.84  ...    201329       0       1       0\n",
              "115063     45    98      False        76.06  ...    201330       0       1       0\n",
              "\n",
              "[115064 rows x 17 columns]"
            ]
          },
          "metadata": {
            "tags": []
          },
          "execution_count": 58
        }
      ]
    },
    {
      "cell_type": "code",
      "metadata": {
        "colab": {
          "base_uri": "https://localhost:8080/"
        },
        "id": "OsrWV9_cWkIN",
        "outputId": "b30ef746-6780-4083-e084-06c961bb7065"
      },
      "source": [
        "columns3 =  [\"Store\", \"Dept\", \"YearWeek\", \"IsHoliday\", \"Size\", \"Unemployment\", \"CPI\", \"Temperature\", \"Fuel_Price\", \"MarkDown1\", \"MarkDown2\", \"MarkDown3\", \"MarkDown4\", \"MarkDown5\", \"Type_A\", \"Type_B\", \"Type_C\"]\n",
        "features_test = test_merge[list(columns2)].values\n",
        "features_test"
      ],
      "execution_count": null,
      "outputs": [
        {
          "output_type": "execute_result",
          "data": {
            "text/plain": [
              "array([[1, 1, 201244, ..., 1, 0, 0],\n",
              "       [1, 1, 201245, ..., 1, 0, 0],\n",
              "       [1, 1, 201246, ..., 1, 0, 0],\n",
              "       ...,\n",
              "       [45, 98, 201328, ..., 0, 1, 0],\n",
              "       [45, 98, 201329, ..., 0, 1, 0],\n",
              "       [45, 98, 201330, ..., 0, 1, 0]], dtype=object)"
            ]
          },
          "metadata": {
            "tags": []
          },
          "execution_count": 59
        }
      ]
    },
    {
      "cell_type": "code",
      "metadata": {
        "colab": {
          "base_uri": "https://localhost:8080/"
        },
        "id": "h7uN5QhrWl8d",
        "outputId": "b01e9c3c-fae2-4fe5-9ae1-15b455022d73"
      },
      "source": [
        "test_vals = rfr.predict(features_test)\n",
        "test_vals"
      ],
      "execution_count": null,
      "outputs": [
        {
          "output_type": "execute_result",
          "data": {
            "text/plain": [
              "array([31760.0403, 30647.7875, 31054.8459, ...,   463.7461,   500.4471,\n",
              "         547.1186])"
            ]
          },
          "metadata": {
            "tags": []
          },
          "execution_count": 60
        }
      ]
    },
    {
      "cell_type": "code",
      "metadata": {
        "colab": {
          "base_uri": "https://localhost:8080/",
          "height": 426
        },
        "id": "TGLfFRmsWuOm",
        "outputId": "9eb72256-c42f-41f2-e042-a3abf8434c49"
      },
      "source": [
        "test_merge['PredictedWeeklySales'] = test_vals\n",
        "test_merge"
      ],
      "execution_count": null,
      "outputs": [
        {
          "output_type": "execute_result",
          "data": {
            "text/html": [
              "<div>\n",
              "<style scoped>\n",
              "    .dataframe tbody tr th:only-of-type {\n",
              "        vertical-align: middle;\n",
              "    }\n",
              "\n",
              "    .dataframe tbody tr th {\n",
              "        vertical-align: top;\n",
              "    }\n",
              "\n",
              "    .dataframe thead th {\n",
              "        text-align: right;\n",
              "    }\n",
              "</style>\n",
              "<table border=\"1\" class=\"dataframe\">\n",
              "  <thead>\n",
              "    <tr style=\"text-align: right;\">\n",
              "      <th></th>\n",
              "      <th>Store</th>\n",
              "      <th>Dept</th>\n",
              "      <th>IsHoliday</th>\n",
              "      <th>Temperature</th>\n",
              "      <th>Fuel_Price</th>\n",
              "      <th>MarkDown1</th>\n",
              "      <th>MarkDown2</th>\n",
              "      <th>MarkDown3</th>\n",
              "      <th>MarkDown4</th>\n",
              "      <th>MarkDown5</th>\n",
              "      <th>CPI</th>\n",
              "      <th>Unemployment</th>\n",
              "      <th>Size</th>\n",
              "      <th>YearWeek</th>\n",
              "      <th>Type_A</th>\n",
              "      <th>Type_B</th>\n",
              "      <th>Type_C</th>\n",
              "      <th>PredictedWeeklySales</th>\n",
              "    </tr>\n",
              "  </thead>\n",
              "  <tbody>\n",
              "    <tr>\n",
              "      <th>0</th>\n",
              "      <td>1</td>\n",
              "      <td>1</td>\n",
              "      <td>False</td>\n",
              "      <td>55.32</td>\n",
              "      <td>3.386</td>\n",
              "      <td>6766.44</td>\n",
              "      <td>5147.70</td>\n",
              "      <td>50.82</td>\n",
              "      <td>3639.90</td>\n",
              "      <td>2737.42</td>\n",
              "      <td>223.462779</td>\n",
              "      <td>6.573</td>\n",
              "      <td>151315</td>\n",
              "      <td>201244</td>\n",
              "      <td>1</td>\n",
              "      <td>0</td>\n",
              "      <td>0</td>\n",
              "      <td>31760.0403</td>\n",
              "    </tr>\n",
              "    <tr>\n",
              "      <th>1</th>\n",
              "      <td>1</td>\n",
              "      <td>1</td>\n",
              "      <td>False</td>\n",
              "      <td>61.24</td>\n",
              "      <td>3.314</td>\n",
              "      <td>11421.32</td>\n",
              "      <td>3370.89</td>\n",
              "      <td>40.28</td>\n",
              "      <td>4646.79</td>\n",
              "      <td>6154.16</td>\n",
              "      <td>223.481307</td>\n",
              "      <td>6.573</td>\n",
              "      <td>151315</td>\n",
              "      <td>201245</td>\n",
              "      <td>1</td>\n",
              "      <td>0</td>\n",
              "      <td>0</td>\n",
              "      <td>30647.7875</td>\n",
              "    </tr>\n",
              "    <tr>\n",
              "      <th>2</th>\n",
              "      <td>1</td>\n",
              "      <td>1</td>\n",
              "      <td>False</td>\n",
              "      <td>52.92</td>\n",
              "      <td>3.252</td>\n",
              "      <td>9696.28</td>\n",
              "      <td>292.10</td>\n",
              "      <td>103.78</td>\n",
              "      <td>1133.15</td>\n",
              "      <td>6612.69</td>\n",
              "      <td>223.512911</td>\n",
              "      <td>6.573</td>\n",
              "      <td>151315</td>\n",
              "      <td>201246</td>\n",
              "      <td>1</td>\n",
              "      <td>0</td>\n",
              "      <td>0</td>\n",
              "      <td>31054.8459</td>\n",
              "    </tr>\n",
              "    <tr>\n",
              "      <th>3</th>\n",
              "      <td>1</td>\n",
              "      <td>1</td>\n",
              "      <td>True</td>\n",
              "      <td>56.23</td>\n",
              "      <td>3.211</td>\n",
              "      <td>883.59</td>\n",
              "      <td>4.17</td>\n",
              "      <td>74910.32</td>\n",
              "      <td>209.91</td>\n",
              "      <td>303.32</td>\n",
              "      <td>223.561947</td>\n",
              "      <td>6.573</td>\n",
              "      <td>151315</td>\n",
              "      <td>201247</td>\n",
              "      <td>1</td>\n",
              "      <td>0</td>\n",
              "      <td>0</td>\n",
              "      <td>49123.0962</td>\n",
              "    </tr>\n",
              "    <tr>\n",
              "      <th>4</th>\n",
              "      <td>1</td>\n",
              "      <td>1</td>\n",
              "      <td>False</td>\n",
              "      <td>52.34</td>\n",
              "      <td>3.207</td>\n",
              "      <td>2460.03</td>\n",
              "      <td>0.00</td>\n",
              "      <td>3838.35</td>\n",
              "      <td>150.57</td>\n",
              "      <td>6966.34</td>\n",
              "      <td>223.610984</td>\n",
              "      <td>6.573</td>\n",
              "      <td>151315</td>\n",
              "      <td>201248</td>\n",
              "      <td>1</td>\n",
              "      <td>0</td>\n",
              "      <td>0</td>\n",
              "      <td>50750.6707</td>\n",
              "    </tr>\n",
              "    <tr>\n",
              "      <th>...</th>\n",
              "      <td>...</td>\n",
              "      <td>...</td>\n",
              "      <td>...</td>\n",
              "      <td>...</td>\n",
              "      <td>...</td>\n",
              "      <td>...</td>\n",
              "      <td>...</td>\n",
              "      <td>...</td>\n",
              "      <td>...</td>\n",
              "      <td>...</td>\n",
              "      <td>...</td>\n",
              "      <td>...</td>\n",
              "      <td>...</td>\n",
              "      <td>...</td>\n",
              "      <td>...</td>\n",
              "      <td>...</td>\n",
              "      <td>...</td>\n",
              "      <td>...</td>\n",
              "    </tr>\n",
              "    <tr>\n",
              "      <th>115059</th>\n",
              "      <td>45</td>\n",
              "      <td>98</td>\n",
              "      <td>False</td>\n",
              "      <td>76.05</td>\n",
              "      <td>3.639</td>\n",
              "      <td>4842.29</td>\n",
              "      <td>975.03</td>\n",
              "      <td>3.00</td>\n",
              "      <td>2449.97</td>\n",
              "      <td>3169.69</td>\n",
              "      <td>0.000000</td>\n",
              "      <td>0.000</td>\n",
              "      <td>118221</td>\n",
              "      <td>201326</td>\n",
              "      <td>0</td>\n",
              "      <td>1</td>\n",
              "      <td>0</td>\n",
              "      <td>426.7102</td>\n",
              "    </tr>\n",
              "    <tr>\n",
              "      <th>115060</th>\n",
              "      <td>45</td>\n",
              "      <td>98</td>\n",
              "      <td>False</td>\n",
              "      <td>77.50</td>\n",
              "      <td>3.614</td>\n",
              "      <td>9090.48</td>\n",
              "      <td>2268.58</td>\n",
              "      <td>582.74</td>\n",
              "      <td>5797.47</td>\n",
              "      <td>1514.93</td>\n",
              "      <td>0.000000</td>\n",
              "      <td>0.000</td>\n",
              "      <td>118221</td>\n",
              "      <td>201327</td>\n",
              "      <td>0</td>\n",
              "      <td>1</td>\n",
              "      <td>0</td>\n",
              "      <td>437.8298</td>\n",
              "    </tr>\n",
              "    <tr>\n",
              "      <th>115061</th>\n",
              "      <td>45</td>\n",
              "      <td>98</td>\n",
              "      <td>False</td>\n",
              "      <td>79.37</td>\n",
              "      <td>3.614</td>\n",
              "      <td>3789.94</td>\n",
              "      <td>1827.31</td>\n",
              "      <td>85.72</td>\n",
              "      <td>744.84</td>\n",
              "      <td>2150.36</td>\n",
              "      <td>0.000000</td>\n",
              "      <td>0.000</td>\n",
              "      <td>118221</td>\n",
              "      <td>201328</td>\n",
              "      <td>0</td>\n",
              "      <td>1</td>\n",
              "      <td>0</td>\n",
              "      <td>463.7461</td>\n",
              "    </tr>\n",
              "    <tr>\n",
              "      <th>115062</th>\n",
              "      <td>45</td>\n",
              "      <td>98</td>\n",
              "      <td>False</td>\n",
              "      <td>82.84</td>\n",
              "      <td>3.737</td>\n",
              "      <td>2961.49</td>\n",
              "      <td>1047.07</td>\n",
              "      <td>204.19</td>\n",
              "      <td>363.00</td>\n",
              "      <td>1059.46</td>\n",
              "      <td>0.000000</td>\n",
              "      <td>0.000</td>\n",
              "      <td>118221</td>\n",
              "      <td>201329</td>\n",
              "      <td>0</td>\n",
              "      <td>1</td>\n",
              "      <td>0</td>\n",
              "      <td>500.4471</td>\n",
              "    </tr>\n",
              "    <tr>\n",
              "      <th>115063</th>\n",
              "      <td>45</td>\n",
              "      <td>98</td>\n",
              "      <td>False</td>\n",
              "      <td>76.06</td>\n",
              "      <td>3.804</td>\n",
              "      <td>212.02</td>\n",
              "      <td>851.73</td>\n",
              "      <td>2.06</td>\n",
              "      <td>10.88</td>\n",
              "      <td>1864.57</td>\n",
              "      <td>0.000000</td>\n",
              "      <td>0.000</td>\n",
              "      <td>118221</td>\n",
              "      <td>201330</td>\n",
              "      <td>0</td>\n",
              "      <td>1</td>\n",
              "      <td>0</td>\n",
              "      <td>547.1186</td>\n",
              "    </tr>\n",
              "  </tbody>\n",
              "</table>\n",
              "<p>115064 rows × 18 columns</p>\n",
              "</div>"
            ],
            "text/plain": [
              "        Store  Dept  IsHoliday  ...  Type_B  Type_C  PredictedWeeklySales\n",
              "0           1     1      False  ...       0       0            31760.0403\n",
              "1           1     1      False  ...       0       0            30647.7875\n",
              "2           1     1      False  ...       0       0            31054.8459\n",
              "3           1     1       True  ...       0       0            49123.0962\n",
              "4           1     1      False  ...       0       0            50750.6707\n",
              "...       ...   ...        ...  ...     ...     ...                   ...\n",
              "115059     45    98      False  ...       1       0              426.7102\n",
              "115060     45    98      False  ...       1       0              437.8298\n",
              "115061     45    98      False  ...       1       0              463.7461\n",
              "115062     45    98      False  ...       1       0              500.4471\n",
              "115063     45    98      False  ...       1       0              547.1186\n",
              "\n",
              "[115064 rows x 18 columns]"
            ]
          },
          "metadata": {
            "tags": []
          },
          "execution_count": 61
        }
      ]
    },
    {
      "cell_type": "markdown",
      "metadata": {
        "id": "ngCdFlc4eg_k"
      },
      "source": [
        "# Link for dataset"
      ]
    },
    {
      "cell_type": "markdown",
      "metadata": {
        "id": "Fz3VbpkMem1s"
      },
      "source": [
        "https://www.kaggle.com/c/walmart-recruiting-store-sales-forecasting/data"
      ]
    },
    {
      "cell_type": "markdown",
      "metadata": {
        "id": "a1b__u_9fDMA"
      },
      "source": [
        "# Discription of the dataset"
      ]
    },
    {
      "cell_type": "markdown",
      "metadata": {
        "id": "B4jOhOeBfVqo"
      },
      "source": [
        "Dataset has provided with historical sales data for 45 Walmart stores located in different regions. Each store contains a number of departments, and you are tasked with predicting the department-wide sales for each store.\r\n",
        "\r\n",
        "In addition, Walmart runs several promotional markdown events throughout the year. These markdowns precede prominent holidays, the four largest of which are the Super Bowl, Labor Day, Thanksgiving, and Christmas. The weeks including these holidays are weighted five times higher in the evaluation than non-holiday weeks. Part of the challenge presented by this competition is modeling the effects of markdowns on these holiday weeks in the absence of complete/ideal historical data.\r\n",
        "\r\n",
        "stores.csv\r\n",
        "\r\n",
        "This file contains anonymized information about the 45 stores, indicating the type and size of store.\r\n",
        "\r\n",
        "train.csv\r\n",
        "\r\n",
        "This is the historical training data, which covers to 2010-02-05 to 2012-11-01. Within this file you will find the following fields:\r\n",
        "\r\n",
        "Store - the store number\r\n",
        "Dept - the department number\r\n",
        "Date - the week\r\n",
        "Weekly_Sales -  sales for the given department in the given store\r\n",
        "IsHoliday - whether the week is a special holiday week\r\n",
        "test.csv\r\n",
        "\r\n",
        "This file is identical to train.csv, except we have withheld the weekly sales. You must predict the sales for each triplet of store, department, and date in this file.\r\n",
        "\r\n",
        "features.csv\r\n",
        "\r\n",
        "This file contains additional data related to the store, department, and regional activity for the given dates. It contains the following fields:\r\n",
        "\r\n",
        "Store - the store number\r\n",
        "Date - the week\r\n",
        "Temperature - average temperature in the region\r\n",
        "Fuel_Price - cost of fuel in the region\r\n",
        "MarkDown1-5 - anonymized data related to promotional markdowns that Walmart is running. MarkDown data is only available after Nov 2011, and is not available for all stores all the time. Any missing value is marked with an NA.\r\n",
        "CPI - the consumer price index\r\n",
        "Unemployment - the unemployment rate\r\n",
        "IsHoliday - whether the week is a special holiday week\r\n",
        "For convenience, the four holidays fall within the following weeks in the dataset (not all holidays are in the data):\r\n",
        "\r\n",
        "Super Bowl: 12-Feb-10, 11-Feb-11, 10-Feb-12, 8-Feb-13\r\n",
        "Labor Day: 10-Sep-10, 9-Sep-11, 7-Sep-12, 6-Sep-13\r\n",
        "Thanksgiving: 26-Nov-10, 25-Nov-11, 23-Nov-12, 29-Nov-13\r\n",
        "Christmas: 31-Dec-10, 30-Dec-11, 28-Dec-12, 27-Dec-13"
      ]
    },
    {
      "cell_type": "markdown",
      "metadata": {
        "id": "8S0c0-bKfi8b"
      },
      "source": [
        "# Discription of outcome of the project"
      ]
    },
    {
      "cell_type": "markdown",
      "metadata": {
        "id": "IZSK2JG0f031"
      },
      "source": [
        "The department and size of the store matter a lot the weekly sales. This is followed by date, CPI, unemployment, temperature and fuelprice. Type B stores seem to have more sales as compared to type A and C stores. Also Markdown3 has the most impact on the sales as compared to other markdowns."
      ]
    }
  ]
}